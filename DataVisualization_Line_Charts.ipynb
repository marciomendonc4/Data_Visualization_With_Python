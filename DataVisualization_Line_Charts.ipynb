{
  "metadata": {
    "kernelspec": {
      "name": "python",
      "display_name": "Pyolite",
      "language": "python"
    },
    "language_info": {
      "codemirror_mode": {
        "name": "python",
        "version": 3
      },
      "file_extension": ".py",
      "mimetype": "text/x-python",
      "name": "python",
      "nbconvert_exporter": "python",
      "pygments_lexer": "ipython3",
      "version": "3.8"
    },
    "colab": {
      "name": "DataVisualizationPython1.ipynb",
      "provenance": [],
      "collapsed_sections": [
        "bCAtRxB6_RYo",
        "j2YfSA3M_RY1",
        "R9IWjlYe_RY1"
      ]
    }
  },
  "nbformat_minor": 0,
  "nbformat": 4,
  "cells": [
    {
      "cell_type": "markdown",
      "source": [
        "<center>\n",
        "    <img src=\"https://cf-courses-data.s3.us.cloud-object-storage.appdomain.cloud/IBMDeveloperSkillsNetwork-DV0101EN-SkillsNetwork/labs/Module%201/images/IDSNlogo.png\" width=\"300\" alt=\"cognitiveclass.ai logo\"  />\n",
        "</center>\n",
        "\n",
        "# Data Visualization\n",
        "\n",
        "## Objectives\n",
        "\n",
        "After completing this lab you will be able to:\n",
        "\n",
        "*   Create Data Visualization with Python\n",
        "*   Use various Python libraries for visualization\n"
      ],
      "metadata": {
        "button": false,
        "new_sheet": false,
        "run_control": {
          "read_only": false
        },
        "id": "0fuwxRVk_RXz"
      }
    },
    {
      "cell_type": "markdown",
      "source": [
        "## Table of Contents\n",
        "\n",
        "<div class=\"alert alert-block alert-info\" style=\"margin-top: 20px\">\n",
        "\n",
        "1.  [Exploring Datasets with *pandas*](#0)<br>\n",
        "\n",
        "1.1 [The Dataset: Immigration to Canada from 1980 to 2013](#2)<br>\n",
        "1.2 [*pandas* Basics](#4) <br>\n",
        "1.3 [*pandas* Intermediate: Indexing and Selection](#6) <br>\n",
        "2\\. [Visualizing Data using Matplotlib](#8) <br>\n",
        "2.1 [Matplotlib: Standard Python Visualization Library](#10) <br>\n",
        "3\\. [Line Plots](#12)\n",
        "\n",
        "</div>\n"
      ],
      "metadata": {
        "button": false,
        "new_sheet": false,
        "run_control": {
          "read_only": false
        },
        "id": "3uGZnMrs_RX5"
      }
    },
    {
      "cell_type": "markdown",
      "source": [
        "## The Dataset: Immigration to Canada from 1980 to 2013 <a id=\"2\"></a>\n"
      ],
      "metadata": {
        "button": false,
        "new_sheet": false,
        "run_control": {
          "read_only": false
        },
        "id": "bB307r1Z_RX7"
      }
    },
    {
      "cell_type": "markdown",
      "source": [
        "Dataset Source: [International migration flows to and from selected countries - The 2015 revision](http://www.un.org/en/development/desa/population/migration/data/empirical2/migrationflows.shtml?utm_medium=Exinfluencer&utm_source=Exinfluencer&utm_content=000026UJ&utm_term=10006555&utm_id=NA-SkillsNetwork-Channel-SkillsNetworkCoursesIBMDeveloperSkillsNetworkDV0101ENSkillsNetwork20297740-2021-01-01).\n",
        "\n",
        "The dataset contains annual data on the flows of international immigrants as recorded by the countries of destination. The data presents both inflows and outflows according to the place of birth, citizenship or place of previous / next residence both for foreigners and nationals. The current version presents data pertaining to 45 countries.\n",
        "\n",
        "In this lab, we will focus on the Canadian immigration data.\n",
        "\n",
        "![Data Preview](https://cf-courses-data.s3.us.cloud-object-storage.appdomain.cloud/IBMDeveloperSkillsNetwork-DV0101EN-SkillsNetwork/labs/Module%201/images/DataSnapshot.png)\n",
        "\n",
        "The Canada Immigration dataset can be fetched from <a href=\"https://cf-courses-data.s3.us.cloud-object-storage.appdomain.cloud/IBMDeveloperSkillsNetwork-DV0101EN-SkillsNetwork/Data%20Files/Canada.xlsx?utm_medium=Exinfluencer&utm_source=Exinfluencer&utm_content=000026UJ&utm_term=10006555&utm_id=NA-SkillsNetwork-Channel-SkillsNetworkCoursesIBMDeveloperSkillsNetworkDV0101ENSkillsNetwork20297740-2021-01-01\">here</a>.\n",
        "\n",
        "***\n"
      ],
      "metadata": {
        "button": false,
        "new_sheet": false,
        "run_control": {
          "read_only": false
        },
        "id": "pr8XzGRr_RX9"
      }
    },
    {
      "cell_type": "markdown",
      "source": [
        "## *pandas* Basics<a id=\"4\"></a>\n"
      ],
      "metadata": {
        "button": false,
        "new_sheet": false,
        "run_control": {
          "read_only": false
        },
        "id": "_VxVeFWc_RX-"
      }
    },
    {
      "cell_type": "markdown",
      "source": [
        "The first thing we'll do is install **openpyxl** (formerly **xlrd**), a module that *pandas* requires to read Excel files.\n"
      ],
      "metadata": {
        "id": "f45ssjTA_RX_"
      }
    },
    {
      "cell_type": "code",
      "source": [
        "import piplite\n",
        "await piplite.install(['openpyxl==3.0.9'])"
      ],
      "metadata": {
        "trusted": true,
        "id": "MGLirryQ_RYA"
      },
      "execution_count": null,
      "outputs": []
    },
    {
      "cell_type": "markdown",
      "source": [
        "Next, we'll do is import two key data analysis modules: *pandas* and *numpy*.\n"
      ],
      "metadata": {
        "button": false,
        "new_sheet": false,
        "run_control": {
          "read_only": false
        },
        "id": "eyhqHfxw_RYB"
      }
    },
    {
      "cell_type": "code",
      "source": [
        "import numpy as np  # useful for many scientific computing in Python\n",
        "import pandas as pd # primary data structure library"
      ],
      "metadata": {
        "button": false,
        "new_sheet": false,
        "run_control": {
          "read_only": false
        },
        "trusted": true,
        "id": "l8xz0G4e_RYC",
        "outputId": "fe920418-c0f6-4e5d-ccb7-3681329251be"
      },
      "execution_count": null,
      "outputs": [
        {
          "name": "stderr",
          "text": "/lib/python3.9/site-packages/pandas/compat/__init__.py:124: UserWarning: Could not import the lzma module. Your installed Python is incomplete. Attempting to use lzma compression will result in a RuntimeError.\n  warnings.warn(msg)\n",
          "output_type": "stream"
        }
      ]
    },
    {
      "cell_type": "markdown",
      "source": [
        "Let's download and import our primary Canadian Immigration dataset using *pandas*'s `read_excel()` method.\n"
      ],
      "metadata": {
        "button": false,
        "new_sheet": false,
        "run_control": {
          "read_only": false
        },
        "id": "UzfMPyDm_RYD"
      }
    },
    {
      "cell_type": "code",
      "source": [
        "from js import fetch\n",
        "import io\n",
        "\n",
        "URL = 'https://cf-courses-data.s3.us.cloud-object-storage.appdomain.cloud/IBMDeveloperSkillsNetwork-DV0101EN-SkillsNetwork/Data%20Files/Canada.xlsx'\n",
        "resp = await fetch(URL)\n",
        "text = io.BytesIO((await resp.arrayBuffer()).to_py())\n",
        "\n",
        "df_can = pd.read_excel(\n",
        "    text,\n",
        "    sheet_name='Canada by Citizenship',\n",
        "    skiprows=range(20),\n",
        "    skipfooter=2)\n",
        "print('Data downloaded and read into a dataframe!')"
      ],
      "metadata": {
        "button": false,
        "new_sheet": false,
        "run_control": {
          "read_only": false
        },
        "trusted": true,
        "id": "rjb6d_2y_RYE",
        "outputId": "a16ff055-1c2d-4233-badf-8a1f9c09edd3"
      },
      "execution_count": null,
      "outputs": [
        {
          "name": "stdout",
          "text": "Data downloaded and read into a dataframe!\n",
          "output_type": "stream"
        }
      ]
    },
    {
      "cell_type": "markdown",
      "source": [
        "Let's view the top 5 rows of the dataset using the `head()` function.\n"
      ],
      "metadata": {
        "button": false,
        "new_sheet": false,
        "run_control": {
          "read_only": false
        },
        "id": "sHx4W-GF_RYF"
      }
    },
    {
      "cell_type": "code",
      "source": [
        "df_can.head()"
      ],
      "metadata": {
        "button": false,
        "new_sheet": false,
        "run_control": {
          "read_only": false
        },
        "trusted": true,
        "id": "LiFcz7bf_RYF",
        "outputId": "1af4645f-5649-411b-9747-5408fa7875b3"
      },
      "execution_count": null,
      "outputs": [
        {
          "execution_count": 4,
          "output_type": "execute_result",
          "data": {
            "text/plain": "         Type    Coverage          OdName  AREA AreaName   REG  \\\n0  Immigrants  Foreigners     Afghanistan   935     Asia  5501   \n1  Immigrants  Foreigners         Albania   908   Europe   925   \n2  Immigrants  Foreigners         Algeria   903   Africa   912   \n3  Immigrants  Foreigners  American Samoa   909  Oceania   957   \n4  Immigrants  Foreigners         Andorra   908   Europe   925   \n\n           RegName  DEV             DevName  1980  ...  2004  2005  2006  \\\n0    Southern Asia  902  Developing regions    16  ...  2978  3436  3009   \n1  Southern Europe  901   Developed regions     1  ...  1450  1223   856   \n2  Northern Africa  902  Developing regions    80  ...  3616  3626  4807   \n3        Polynesia  902  Developing regions     0  ...     0     0     1   \n4  Southern Europe  901   Developed regions     0  ...     0     0     1   \n\n   2007  2008  2009  2010  2011  2012  2013  \n0  2652  2111  1746  1758  2203  2635  2004  \n1   702   560   716   561   539   620   603  \n2  3623  4005  5393  4752  4325  3774  4331  \n3     0     0     0     0     0     0     0  \n4     1     0     0     0     0     1     1  \n\n[5 rows x 43 columns]",
            "text/html": "<div>\n<style scoped>\n    .dataframe tbody tr th:only-of-type {\n        vertical-align: middle;\n    }\n\n    .dataframe tbody tr th {\n        vertical-align: top;\n    }\n\n    .dataframe thead th {\n        text-align: right;\n    }\n</style>\n<table border=\"1\" class=\"dataframe\">\n  <thead>\n    <tr style=\"text-align: right;\">\n      <th></th>\n      <th>Type</th>\n      <th>Coverage</th>\n      <th>OdName</th>\n      <th>AREA</th>\n      <th>AreaName</th>\n      <th>REG</th>\n      <th>RegName</th>\n      <th>DEV</th>\n      <th>DevName</th>\n      <th>1980</th>\n      <th>...</th>\n      <th>2004</th>\n      <th>2005</th>\n      <th>2006</th>\n      <th>2007</th>\n      <th>2008</th>\n      <th>2009</th>\n      <th>2010</th>\n      <th>2011</th>\n      <th>2012</th>\n      <th>2013</th>\n    </tr>\n  </thead>\n  <tbody>\n    <tr>\n      <th>0</th>\n      <td>Immigrants</td>\n      <td>Foreigners</td>\n      <td>Afghanistan</td>\n      <td>935</td>\n      <td>Asia</td>\n      <td>5501</td>\n      <td>Southern Asia</td>\n      <td>902</td>\n      <td>Developing regions</td>\n      <td>16</td>\n      <td>...</td>\n      <td>2978</td>\n      <td>3436</td>\n      <td>3009</td>\n      <td>2652</td>\n      <td>2111</td>\n      <td>1746</td>\n      <td>1758</td>\n      <td>2203</td>\n      <td>2635</td>\n      <td>2004</td>\n    </tr>\n    <tr>\n      <th>1</th>\n      <td>Immigrants</td>\n      <td>Foreigners</td>\n      <td>Albania</td>\n      <td>908</td>\n      <td>Europe</td>\n      <td>925</td>\n      <td>Southern Europe</td>\n      <td>901</td>\n      <td>Developed regions</td>\n      <td>1</td>\n      <td>...</td>\n      <td>1450</td>\n      <td>1223</td>\n      <td>856</td>\n      <td>702</td>\n      <td>560</td>\n      <td>716</td>\n      <td>561</td>\n      <td>539</td>\n      <td>620</td>\n      <td>603</td>\n    </tr>\n    <tr>\n      <th>2</th>\n      <td>Immigrants</td>\n      <td>Foreigners</td>\n      <td>Algeria</td>\n      <td>903</td>\n      <td>Africa</td>\n      <td>912</td>\n      <td>Northern Africa</td>\n      <td>902</td>\n      <td>Developing regions</td>\n      <td>80</td>\n      <td>...</td>\n      <td>3616</td>\n      <td>3626</td>\n      <td>4807</td>\n      <td>3623</td>\n      <td>4005</td>\n      <td>5393</td>\n      <td>4752</td>\n      <td>4325</td>\n      <td>3774</td>\n      <td>4331</td>\n    </tr>\n    <tr>\n      <th>3</th>\n      <td>Immigrants</td>\n      <td>Foreigners</td>\n      <td>American Samoa</td>\n      <td>909</td>\n      <td>Oceania</td>\n      <td>957</td>\n      <td>Polynesia</td>\n      <td>902</td>\n      <td>Developing regions</td>\n      <td>0</td>\n      <td>...</td>\n      <td>0</td>\n      <td>0</td>\n      <td>1</td>\n      <td>0</td>\n      <td>0</td>\n      <td>0</td>\n      <td>0</td>\n      <td>0</td>\n      <td>0</td>\n      <td>0</td>\n    </tr>\n    <tr>\n      <th>4</th>\n      <td>Immigrants</td>\n      <td>Foreigners</td>\n      <td>Andorra</td>\n      <td>908</td>\n      <td>Europe</td>\n      <td>925</td>\n      <td>Southern Europe</td>\n      <td>901</td>\n      <td>Developed regions</td>\n      <td>0</td>\n      <td>...</td>\n      <td>0</td>\n      <td>0</td>\n      <td>1</td>\n      <td>1</td>\n      <td>0</td>\n      <td>0</td>\n      <td>0</td>\n      <td>0</td>\n      <td>1</td>\n      <td>1</td>\n    </tr>\n  </tbody>\n</table>\n<p>5 rows × 43 columns</p>\n</div>"
          },
          "metadata": {}
        }
      ]
    },
    {
      "cell_type": "markdown",
      "source": [
        "We can also view the bottom 5 rows of the dataset using the `tail()` function.\n"
      ],
      "metadata": {
        "button": false,
        "new_sheet": false,
        "run_control": {
          "read_only": false
        },
        "id": "mt9rhPZh_RYG"
      }
    },
    {
      "cell_type": "code",
      "source": [
        "df_can.tail()"
      ],
      "metadata": {
        "button": false,
        "new_sheet": false,
        "run_control": {
          "read_only": false
        },
        "trusted": true,
        "id": "Bm_GzTFI_RYH",
        "outputId": "c87c7463-fb5a-4392-f7c2-4b5c48b180b2"
      },
      "execution_count": null,
      "outputs": [
        {
          "execution_count": 5,
          "output_type": "execute_result",
          "data": {
            "text/plain": "           Type    Coverage          OdName  AREA AreaName  REG  \\\n190  Immigrants  Foreigners        Viet Nam   935     Asia  920   \n191  Immigrants  Foreigners  Western Sahara   903   Africa  912   \n192  Immigrants  Foreigners           Yemen   935     Asia  922   \n193  Immigrants  Foreigners          Zambia   903   Africa  910   \n194  Immigrants  Foreigners        Zimbabwe   903   Africa  910   \n\n                RegName  DEV             DevName  1980  ...  2004  2005  2006  \\\n190  South-Eastern Asia  902  Developing regions  1191  ...  1816  1852  3153   \n191     Northern Africa  902  Developing regions     0  ...     0     0     1   \n192        Western Asia  902  Developing regions     1  ...   124   161   140   \n193      Eastern Africa  902  Developing regions    11  ...    56    91    77   \n194      Eastern Africa  902  Developing regions    72  ...  1450   615   454   \n\n     2007  2008  2009  2010  2011  2012  2013  \n190  2574  1784  2171  1942  1723  1731  2112  \n191     0     0     0     0     0     0     0  \n192   122   133   128   211   160   174   217  \n193    71    64    60   102    69    46    59  \n194   663   611   508   494   434   437   407  \n\n[5 rows x 43 columns]",
            "text/html": "<div>\n<style scoped>\n    .dataframe tbody tr th:only-of-type {\n        vertical-align: middle;\n    }\n\n    .dataframe tbody tr th {\n        vertical-align: top;\n    }\n\n    .dataframe thead th {\n        text-align: right;\n    }\n</style>\n<table border=\"1\" class=\"dataframe\">\n  <thead>\n    <tr style=\"text-align: right;\">\n      <th></th>\n      <th>Type</th>\n      <th>Coverage</th>\n      <th>OdName</th>\n      <th>AREA</th>\n      <th>AreaName</th>\n      <th>REG</th>\n      <th>RegName</th>\n      <th>DEV</th>\n      <th>DevName</th>\n      <th>1980</th>\n      <th>...</th>\n      <th>2004</th>\n      <th>2005</th>\n      <th>2006</th>\n      <th>2007</th>\n      <th>2008</th>\n      <th>2009</th>\n      <th>2010</th>\n      <th>2011</th>\n      <th>2012</th>\n      <th>2013</th>\n    </tr>\n  </thead>\n  <tbody>\n    <tr>\n      <th>190</th>\n      <td>Immigrants</td>\n      <td>Foreigners</td>\n      <td>Viet Nam</td>\n      <td>935</td>\n      <td>Asia</td>\n      <td>920</td>\n      <td>South-Eastern Asia</td>\n      <td>902</td>\n      <td>Developing regions</td>\n      <td>1191</td>\n      <td>...</td>\n      <td>1816</td>\n      <td>1852</td>\n      <td>3153</td>\n      <td>2574</td>\n      <td>1784</td>\n      <td>2171</td>\n      <td>1942</td>\n      <td>1723</td>\n      <td>1731</td>\n      <td>2112</td>\n    </tr>\n    <tr>\n      <th>191</th>\n      <td>Immigrants</td>\n      <td>Foreigners</td>\n      <td>Western Sahara</td>\n      <td>903</td>\n      <td>Africa</td>\n      <td>912</td>\n      <td>Northern Africa</td>\n      <td>902</td>\n      <td>Developing regions</td>\n      <td>0</td>\n      <td>...</td>\n      <td>0</td>\n      <td>0</td>\n      <td>1</td>\n      <td>0</td>\n      <td>0</td>\n      <td>0</td>\n      <td>0</td>\n      <td>0</td>\n      <td>0</td>\n      <td>0</td>\n    </tr>\n    <tr>\n      <th>192</th>\n      <td>Immigrants</td>\n      <td>Foreigners</td>\n      <td>Yemen</td>\n      <td>935</td>\n      <td>Asia</td>\n      <td>922</td>\n      <td>Western Asia</td>\n      <td>902</td>\n      <td>Developing regions</td>\n      <td>1</td>\n      <td>...</td>\n      <td>124</td>\n      <td>161</td>\n      <td>140</td>\n      <td>122</td>\n      <td>133</td>\n      <td>128</td>\n      <td>211</td>\n      <td>160</td>\n      <td>174</td>\n      <td>217</td>\n    </tr>\n    <tr>\n      <th>193</th>\n      <td>Immigrants</td>\n      <td>Foreigners</td>\n      <td>Zambia</td>\n      <td>903</td>\n      <td>Africa</td>\n      <td>910</td>\n      <td>Eastern Africa</td>\n      <td>902</td>\n      <td>Developing regions</td>\n      <td>11</td>\n      <td>...</td>\n      <td>56</td>\n      <td>91</td>\n      <td>77</td>\n      <td>71</td>\n      <td>64</td>\n      <td>60</td>\n      <td>102</td>\n      <td>69</td>\n      <td>46</td>\n      <td>59</td>\n    </tr>\n    <tr>\n      <th>194</th>\n      <td>Immigrants</td>\n      <td>Foreigners</td>\n      <td>Zimbabwe</td>\n      <td>903</td>\n      <td>Africa</td>\n      <td>910</td>\n      <td>Eastern Africa</td>\n      <td>902</td>\n      <td>Developing regions</td>\n      <td>72</td>\n      <td>...</td>\n      <td>1450</td>\n      <td>615</td>\n      <td>454</td>\n      <td>663</td>\n      <td>611</td>\n      <td>508</td>\n      <td>494</td>\n      <td>434</td>\n      <td>437</td>\n      <td>407</td>\n    </tr>\n  </tbody>\n</table>\n<p>5 rows × 43 columns</p>\n</div>"
          },
          "metadata": {}
        }
      ]
    },
    {
      "cell_type": "markdown",
      "source": [
        "When analyzing a dataset, it's always a good idea to start by getting basic information about your dataframe. We can do this by using the `info()` method.\n",
        "\n",
        "This method can be used to get a short summary of the dataframe.\n"
      ],
      "metadata": {
        "button": false,
        "new_sheet": false,
        "run_control": {
          "read_only": false
        },
        "id": "B5g1lkve_RYI"
      }
    },
    {
      "cell_type": "code",
      "source": [
        "df_can.info(verbose=False)"
      ],
      "metadata": {
        "trusted": true,
        "id": "t9MuiExm_RYI",
        "outputId": "ee9d29d5-43ba-433d-d30b-db30d0faa1cf"
      },
      "execution_count": null,
      "outputs": [
        {
          "name": "stdout",
          "text": "<class 'pandas.core.frame.DataFrame'>\nRangeIndex: 195 entries, 0 to 194\nColumns: 43 entries, Type to 2013\ndtypes: int64(37), object(6)\nmemory usage: 61.0+ KB\n",
          "output_type": "stream"
        }
      ]
    },
    {
      "cell_type": "markdown",
      "source": [
        "To get the list of column headers we can call upon the data frame's `columns` instance variable.\n"
      ],
      "metadata": {
        "button": false,
        "new_sheet": false,
        "run_control": {
          "read_only": false
        },
        "id": "xT8BNvYN_RYJ"
      }
    },
    {
      "cell_type": "code",
      "source": [
        "df_can.columns"
      ],
      "metadata": {
        "button": false,
        "new_sheet": false,
        "run_control": {
          "read_only": false
        },
        "trusted": true,
        "id": "jxEVhQyE_RYJ",
        "outputId": "fbf30212-8732-42eb-8bd3-ea6db1fca81a"
      },
      "execution_count": null,
      "outputs": [
        {
          "execution_count": 7,
          "output_type": "execute_result",
          "data": {
            "text/plain": "Index([    'Type', 'Coverage',   'OdName',     'AREA', 'AreaName',      'REG',\n        'RegName',      'DEV',  'DevName',       1980,       1981,       1982,\n             1983,       1984,       1985,       1986,       1987,       1988,\n             1989,       1990,       1991,       1992,       1993,       1994,\n             1995,       1996,       1997,       1998,       1999,       2000,\n             2001,       2002,       2003,       2004,       2005,       2006,\n             2007,       2008,       2009,       2010,       2011,       2012,\n             2013],\n      dtype='object')"
          },
          "metadata": {}
        }
      ]
    },
    {
      "cell_type": "markdown",
      "source": [
        "Similarly, to get the list of indices we use the `.index` instance variables.\n"
      ],
      "metadata": {
        "button": false,
        "new_sheet": false,
        "run_control": {
          "read_only": false
        },
        "id": "JXvWoBsK_RYK"
      }
    },
    {
      "cell_type": "code",
      "source": [
        "df_can.index"
      ],
      "metadata": {
        "button": false,
        "new_sheet": false,
        "run_control": {
          "read_only": false
        },
        "scrolled": true,
        "trusted": true,
        "id": "4umgAUzC_RYK",
        "outputId": "2270db6d-f432-4368-fa40-09f80032bf91"
      },
      "execution_count": null,
      "outputs": [
        {
          "execution_count": 8,
          "output_type": "execute_result",
          "data": {
            "text/plain": "RangeIndex(start=0, stop=195, step=1)"
          },
          "metadata": {}
        }
      ]
    },
    {
      "cell_type": "markdown",
      "source": [
        "Note: The default type of intance variables `index` and `columns` are **NOT** `list`.\n"
      ],
      "metadata": {
        "button": false,
        "new_sheet": false,
        "run_control": {
          "read_only": false
        },
        "id": "-favp8SE_RYL"
      }
    },
    {
      "cell_type": "code",
      "source": [
        "print(type(df_can.columns))\n",
        "print(type(df_can.index))"
      ],
      "metadata": {
        "button": false,
        "new_sheet": false,
        "run_control": {
          "read_only": false
        },
        "trusted": true,
        "id": "5ELS0IBQ_RYL",
        "outputId": "64a04265-5a8f-4c2f-f250-67ad3a9a409d"
      },
      "execution_count": null,
      "outputs": [
        {
          "name": "stdout",
          "text": "<class 'pandas.core.indexes.base.Index'>\n<class 'pandas.core.indexes.range.RangeIndex'>\n",
          "output_type": "stream"
        }
      ]
    },
    {
      "cell_type": "markdown",
      "source": [
        "To get the index and columns as lists, we can use the `tolist()` method.\n"
      ],
      "metadata": {
        "button": false,
        "new_sheet": false,
        "run_control": {
          "read_only": false
        },
        "id": "xzKGYeUf_RYL"
      }
    },
    {
      "cell_type": "code",
      "source": [
        "df_can.columns.tolist()"
      ],
      "metadata": {
        "pycharm": {
          "name": "#%%\n"
        },
        "jupyter": {
          "outputs_hidden": false
        },
        "trusted": true,
        "id": "sYux5zbz_RYM",
        "outputId": "803eeded-22a3-466b-d312-64051467912d"
      },
      "execution_count": null,
      "outputs": [
        {
          "execution_count": 10,
          "output_type": "execute_result",
          "data": {
            "text/plain": "['Type',\n 'Coverage',\n 'OdName',\n 'AREA',\n 'AreaName',\n 'REG',\n 'RegName',\n 'DEV',\n 'DevName',\n 1980,\n 1981,\n 1982,\n 1983,\n 1984,\n 1985,\n 1986,\n 1987,\n 1988,\n 1989,\n 1990,\n 1991,\n 1992,\n 1993,\n 1994,\n 1995,\n 1996,\n 1997,\n 1998,\n 1999,\n 2000,\n 2001,\n 2002,\n 2003,\n 2004,\n 2005,\n 2006,\n 2007,\n 2008,\n 2009,\n 2010,\n 2011,\n 2012,\n 2013]"
          },
          "metadata": {}
        }
      ]
    },
    {
      "cell_type": "code",
      "source": [
        "print(type(df_can.columns.tolist()))\n",
        "print(type(df_can.index.tolist()))"
      ],
      "metadata": {
        "button": false,
        "new_sheet": false,
        "run_control": {
          "read_only": false
        },
        "trusted": true,
        "id": "bdj9gVG9_RYP",
        "outputId": "c2ae03d4-7453-46f2-8efe-16766c129876"
      },
      "execution_count": null,
      "outputs": [
        {
          "name": "stdout",
          "text": "<class 'list'>\n<class 'list'>\n",
          "output_type": "stream"
        }
      ]
    },
    {
      "cell_type": "markdown",
      "source": [
        "To view the dimensions of the dataframe, we use the `shape` instance variable of it.\n"
      ],
      "metadata": {
        "button": false,
        "new_sheet": false,
        "run_control": {
          "read_only": false
        },
        "id": "-e9yBgUO_RYP"
      }
    },
    {
      "cell_type": "code",
      "source": [
        "# size of dataframe (rows, columns)\n",
        "df_can.shape    "
      ],
      "metadata": {
        "button": false,
        "new_sheet": false,
        "run_control": {
          "read_only": false
        },
        "trusted": true,
        "id": "HonPoxWZ_RYQ",
        "outputId": "9dd09745-5506-48b0-81c4-e8a6e9ed7d12"
      },
      "execution_count": null,
      "outputs": [
        {
          "execution_count": 14,
          "output_type": "execute_result",
          "data": {
            "text/plain": "(195, 43)"
          },
          "metadata": {}
        }
      ]
    },
    {
      "cell_type": "markdown",
      "source": [
        "Let's clean the data set to remove a few unnecessary columns. We can use *pandas* `drop()` method as follows:\n"
      ],
      "metadata": {
        "button": false,
        "new_sheet": false,
        "run_control": {
          "read_only": false
        },
        "id": "Ft06LVBX_RYR"
      }
    },
    {
      "cell_type": "code",
      "source": [
        "# in pandas axis=0 represents rows (default) and axis=1 represents columns.\n",
        "df_can.drop(['AREA','REG','DEV','Type','Coverage'], axis=1, inplace=True)\n",
        "df_can.head(2)"
      ],
      "metadata": {
        "button": false,
        "new_sheet": false,
        "run_control": {
          "read_only": false
        },
        "trusted": true,
        "id": "3td4Bcod_RYR",
        "outputId": "44cd2c35-04c1-4592-c621-5ca9c3c6562f"
      },
      "execution_count": null,
      "outputs": [
        {
          "execution_count": 15,
          "output_type": "execute_result",
          "data": {
            "text/plain": "        OdName AreaName          RegName             DevName  1980  1981  \\\n0  Afghanistan     Asia    Southern Asia  Developing regions    16    39   \n1      Albania   Europe  Southern Europe   Developed regions     1     0   \n\n   1982  1983  1984  1985  ...  2004  2005  2006  2007  2008  2009  2010  \\\n0    39    47    71   340  ...  2978  3436  3009  2652  2111  1746  1758   \n1     0     0     0     0  ...  1450  1223   856   702   560   716   561   \n\n   2011  2012  2013  \n0  2203  2635  2004  \n1   539   620   603  \n\n[2 rows x 38 columns]",
            "text/html": "<div>\n<style scoped>\n    .dataframe tbody tr th:only-of-type {\n        vertical-align: middle;\n    }\n\n    .dataframe tbody tr th {\n        vertical-align: top;\n    }\n\n    .dataframe thead th {\n        text-align: right;\n    }\n</style>\n<table border=\"1\" class=\"dataframe\">\n  <thead>\n    <tr style=\"text-align: right;\">\n      <th></th>\n      <th>OdName</th>\n      <th>AreaName</th>\n      <th>RegName</th>\n      <th>DevName</th>\n      <th>1980</th>\n      <th>1981</th>\n      <th>1982</th>\n      <th>1983</th>\n      <th>1984</th>\n      <th>1985</th>\n      <th>...</th>\n      <th>2004</th>\n      <th>2005</th>\n      <th>2006</th>\n      <th>2007</th>\n      <th>2008</th>\n      <th>2009</th>\n      <th>2010</th>\n      <th>2011</th>\n      <th>2012</th>\n      <th>2013</th>\n    </tr>\n  </thead>\n  <tbody>\n    <tr>\n      <th>0</th>\n      <td>Afghanistan</td>\n      <td>Asia</td>\n      <td>Southern Asia</td>\n      <td>Developing regions</td>\n      <td>16</td>\n      <td>39</td>\n      <td>39</td>\n      <td>47</td>\n      <td>71</td>\n      <td>340</td>\n      <td>...</td>\n      <td>2978</td>\n      <td>3436</td>\n      <td>3009</td>\n      <td>2652</td>\n      <td>2111</td>\n      <td>1746</td>\n      <td>1758</td>\n      <td>2203</td>\n      <td>2635</td>\n      <td>2004</td>\n    </tr>\n    <tr>\n      <th>1</th>\n      <td>Albania</td>\n      <td>Europe</td>\n      <td>Southern Europe</td>\n      <td>Developed regions</td>\n      <td>1</td>\n      <td>0</td>\n      <td>0</td>\n      <td>0</td>\n      <td>0</td>\n      <td>0</td>\n      <td>...</td>\n      <td>1450</td>\n      <td>1223</td>\n      <td>856</td>\n      <td>702</td>\n      <td>560</td>\n      <td>716</td>\n      <td>561</td>\n      <td>539</td>\n      <td>620</td>\n      <td>603</td>\n    </tr>\n  </tbody>\n</table>\n<p>2 rows × 38 columns</p>\n</div>"
          },
          "metadata": {}
        }
      ]
    },
    {
      "cell_type": "markdown",
      "source": [
        "Let's rename the columns so that they make sense. We can use `rename()` method by passing in a dictionary of old and new names as follows:\n"
      ],
      "metadata": {
        "button": false,
        "new_sheet": false,
        "run_control": {
          "read_only": false
        },
        "id": "IIQ5iFiG_RYS"
      }
    },
    {
      "cell_type": "code",
      "source": [
        "df_can.rename(columns={'OdName':'Country', 'AreaName':'Continent', 'RegName':'Region'}, inplace=True)\n",
        "df_can.columns"
      ],
      "metadata": {
        "button": false,
        "new_sheet": false,
        "run_control": {
          "read_only": false
        },
        "trusted": true,
        "id": "k8uy8vpH_RYS",
        "outputId": "783bf47e-c9f5-4463-e0fb-227e55716563"
      },
      "execution_count": null,
      "outputs": [
        {
          "execution_count": 16,
          "output_type": "execute_result",
          "data": {
            "text/plain": "Index([  'Country', 'Continent',    'Region',   'DevName',        1980,\n              1981,        1982,        1983,        1984,        1985,\n              1986,        1987,        1988,        1989,        1990,\n              1991,        1992,        1993,        1994,        1995,\n              1996,        1997,        1998,        1999,        2000,\n              2001,        2002,        2003,        2004,        2005,\n              2006,        2007,        2008,        2009,        2010,\n              2011,        2012,        2013],\n      dtype='object')"
          },
          "metadata": {}
        }
      ]
    },
    {
      "cell_type": "markdown",
      "source": [
        "We will also add a 'Total' column that sums up the total immigrants by country over the entire period 1980 - 2013, as follows:\n"
      ],
      "metadata": {
        "button": false,
        "new_sheet": false,
        "run_control": {
          "read_only": false
        },
        "id": "t-eDAzYR_RYT"
      }
    },
    {
      "cell_type": "code",
      "source": [
        "df_can['Total'] = df_can.sum(axis=1)\n",
        "df_can['Total'].head()"
      ],
      "metadata": {
        "button": false,
        "new_sheet": false,
        "run_control": {
          "read_only": false
        },
        "trusted": true,
        "id": "nRgaOsRl_RYT",
        "outputId": "4eda0734-c07d-445d-bc04-82bfd859d198"
      },
      "execution_count": null,
      "outputs": [
        {
          "name": "stderr",
          "text": "<ipython-input-19-3b0777d1b651>:1: FutureWarning: Dropping of nuisance columns in DataFrame reductions (with 'numeric_only=None') is deprecated; in a future version this will raise TypeError.  Select only valid columns before calling the reduction.\n  df_can['Total'] = df_can.sum(axis=1)\n",
          "output_type": "stream"
        },
        {
          "execution_count": 19,
          "output_type": "execute_result",
          "data": {
            "text/plain": "0    175917\n1     47097\n2    208317\n3        18\n4        45\nName: Total, dtype: int64"
          },
          "metadata": {}
        }
      ]
    },
    {
      "cell_type": "markdown",
      "source": [
        "We can check to see how many null objects we have in the dataset as follows:\n"
      ],
      "metadata": {
        "button": false,
        "new_sheet": false,
        "run_control": {
          "read_only": false
        },
        "id": "cucda0rj_RYU"
      }
    },
    {
      "cell_type": "code",
      "source": [
        "for i, col in enumerate(df_can.columns):\n",
        "    if df_can[col].isnull().sum() != 0:\n",
        "        print(f'There are missing values in column: {col}')\n",
        "    elif i == len(df_can.columns)-1:\n",
        "        print('No missing values found')\n",
        "#df_can.isnull().sum()"
      ],
      "metadata": {
        "button": false,
        "new_sheet": false,
        "run_control": {
          "read_only": false
        },
        "scrolled": true,
        "trusted": true,
        "id": "z_T4qLma_RYV",
        "outputId": "0075168b-a8c9-486f-abd9-c859d488e962"
      },
      "execution_count": null,
      "outputs": [
        {
          "name": "stdout",
          "text": "No missing values found\n",
          "output_type": "stream"
        }
      ]
    },
    {
      "cell_type": "markdown",
      "source": [
        "Finally, let's view a quick summary of each column in our dataframe using the `describe()` method.\n"
      ],
      "metadata": {
        "button": false,
        "new_sheet": false,
        "run_control": {
          "read_only": false
        },
        "id": "OdE7N3jh_RYV"
      }
    },
    {
      "cell_type": "code",
      "source": [
        "df_can.describe()"
      ],
      "metadata": {
        "button": false,
        "new_sheet": false,
        "run_control": {
          "read_only": false
        },
        "trusted": true,
        "id": "416LB6Dk_RYW",
        "outputId": "899d84cb-d247-49f7-b254-89944f4207ce"
      },
      "execution_count": null,
      "outputs": [
        {
          "execution_count": 34,
          "output_type": "execute_result",
          "data": {
            "text/plain": "               1980          1981          1982          1983          1984  \\\ncount    195.000000    195.000000    195.000000    195.000000    195.000000   \nmean     508.394872    566.989744    534.723077    387.435897    376.497436   \nstd     1949.588546   2152.643752   1866.997511   1204.333597   1198.246371   \nmin        0.000000      0.000000      0.000000      0.000000      0.000000   \n25%        0.000000      0.000000      0.000000      0.000000      0.000000   \n50%       13.000000     10.000000     11.000000     12.000000     13.000000   \n75%      251.500000    295.500000    275.000000    173.000000    181.000000   \nmax    22045.000000  24796.000000  20620.000000  10015.000000  10170.000000   \n\n              1985         1986          1987          1988          1989  \\\ncount   195.000000   195.000000    195.000000    195.000000    195.000000   \nmean    358.861538   441.271795    691.133333    714.389744    843.241026   \nstd    1079.309600  1225.576630   2109.205607   2443.606788   2555.048874   \nmin       0.000000     0.000000      0.000000      0.000000      0.000000   \n25%       0.000000     0.500000      0.500000      1.000000      1.000000   \n50%      17.000000    18.000000     26.000000     34.000000     44.000000   \n75%     197.000000   254.000000    434.000000    409.000000    508.500000   \nmax    9564.000000  9470.000000  21337.000000  27359.000000  23795.000000   \n\n       ...          2005          2006          2007          2008  \\\ncount  ...    195.000000    195.000000    195.000000    195.000000   \nmean   ...   1320.292308   1266.958974   1191.820513   1246.394872   \nstd    ...   4425.957828   3926.717747   3443.542409   3694.573544   \nmin    ...      0.000000      0.000000      0.000000      0.000000   \n25%    ...     28.500000     25.000000     31.000000     31.000000   \n50%    ...    210.000000    218.000000    198.000000    205.000000   \n75%    ...    832.000000    842.000000    899.000000    934.500000   \nmax    ...  42584.000000  33848.000000  28742.000000  30037.000000   \n\n               2009          2010          2011          2012          2013  \\\ncount    195.000000    195.000000    195.000000    195.000000    195.000000   \nmean    1275.733333   1420.287179   1262.533333   1313.958974   1320.702564   \nstd     3829.630424   4462.946328   4030.084313   4247.555161   4237.951988   \nmin        0.000000      0.000000      0.000000      0.000000      0.000000   \n25%       36.000000     40.500000     37.500000     42.500000     45.000000   \n50%      214.000000    211.000000    179.000000    233.000000    213.000000   \n75%      888.000000    932.000000    772.000000    783.000000    796.000000   \nmax    29622.000000  38617.000000  36765.000000  34315.000000  34129.000000   \n\n              Total  \ncount  1.950000e+02  \nmean   9.860235e+04  \nstd    2.753565e+05  \nmin    3.000000e+00  \n25%    2.856000e+03  \n50%    1.505400e+04  \n75%    6.671850e+04  \nmax    2.075712e+06  \n\n[8 rows x 35 columns]",
            "text/html": "<div>\n<style scoped>\n    .dataframe tbody tr th:only-of-type {\n        vertical-align: middle;\n    }\n\n    .dataframe tbody tr th {\n        vertical-align: top;\n    }\n\n    .dataframe thead th {\n        text-align: right;\n    }\n</style>\n<table border=\"1\" class=\"dataframe\">\n  <thead>\n    <tr style=\"text-align: right;\">\n      <th></th>\n      <th>1980</th>\n      <th>1981</th>\n      <th>1982</th>\n      <th>1983</th>\n      <th>1984</th>\n      <th>1985</th>\n      <th>1986</th>\n      <th>1987</th>\n      <th>1988</th>\n      <th>1989</th>\n      <th>...</th>\n      <th>2005</th>\n      <th>2006</th>\n      <th>2007</th>\n      <th>2008</th>\n      <th>2009</th>\n      <th>2010</th>\n      <th>2011</th>\n      <th>2012</th>\n      <th>2013</th>\n      <th>Total</th>\n    </tr>\n  </thead>\n  <tbody>\n    <tr>\n      <th>count</th>\n      <td>195.000000</td>\n      <td>195.000000</td>\n      <td>195.000000</td>\n      <td>195.000000</td>\n      <td>195.000000</td>\n      <td>195.000000</td>\n      <td>195.000000</td>\n      <td>195.000000</td>\n      <td>195.000000</td>\n      <td>195.000000</td>\n      <td>...</td>\n      <td>195.000000</td>\n      <td>195.000000</td>\n      <td>195.000000</td>\n      <td>195.000000</td>\n      <td>195.000000</td>\n      <td>195.000000</td>\n      <td>195.000000</td>\n      <td>195.000000</td>\n      <td>195.000000</td>\n      <td>1.950000e+02</td>\n    </tr>\n    <tr>\n      <th>mean</th>\n      <td>508.394872</td>\n      <td>566.989744</td>\n      <td>534.723077</td>\n      <td>387.435897</td>\n      <td>376.497436</td>\n      <td>358.861538</td>\n      <td>441.271795</td>\n      <td>691.133333</td>\n      <td>714.389744</td>\n      <td>843.241026</td>\n      <td>...</td>\n      <td>1320.292308</td>\n      <td>1266.958974</td>\n      <td>1191.820513</td>\n      <td>1246.394872</td>\n      <td>1275.733333</td>\n      <td>1420.287179</td>\n      <td>1262.533333</td>\n      <td>1313.958974</td>\n      <td>1320.702564</td>\n      <td>9.860235e+04</td>\n    </tr>\n    <tr>\n      <th>std</th>\n      <td>1949.588546</td>\n      <td>2152.643752</td>\n      <td>1866.997511</td>\n      <td>1204.333597</td>\n      <td>1198.246371</td>\n      <td>1079.309600</td>\n      <td>1225.576630</td>\n      <td>2109.205607</td>\n      <td>2443.606788</td>\n      <td>2555.048874</td>\n      <td>...</td>\n      <td>4425.957828</td>\n      <td>3926.717747</td>\n      <td>3443.542409</td>\n      <td>3694.573544</td>\n      <td>3829.630424</td>\n      <td>4462.946328</td>\n      <td>4030.084313</td>\n      <td>4247.555161</td>\n      <td>4237.951988</td>\n      <td>2.753565e+05</td>\n    </tr>\n    <tr>\n      <th>min</th>\n      <td>0.000000</td>\n      <td>0.000000</td>\n      <td>0.000000</td>\n      <td>0.000000</td>\n      <td>0.000000</td>\n      <td>0.000000</td>\n      <td>0.000000</td>\n      <td>0.000000</td>\n      <td>0.000000</td>\n      <td>0.000000</td>\n      <td>...</td>\n      <td>0.000000</td>\n      <td>0.000000</td>\n      <td>0.000000</td>\n      <td>0.000000</td>\n      <td>0.000000</td>\n      <td>0.000000</td>\n      <td>0.000000</td>\n      <td>0.000000</td>\n      <td>0.000000</td>\n      <td>3.000000e+00</td>\n    </tr>\n    <tr>\n      <th>25%</th>\n      <td>0.000000</td>\n      <td>0.000000</td>\n      <td>0.000000</td>\n      <td>0.000000</td>\n      <td>0.000000</td>\n      <td>0.000000</td>\n      <td>0.500000</td>\n      <td>0.500000</td>\n      <td>1.000000</td>\n      <td>1.000000</td>\n      <td>...</td>\n      <td>28.500000</td>\n      <td>25.000000</td>\n      <td>31.000000</td>\n      <td>31.000000</td>\n      <td>36.000000</td>\n      <td>40.500000</td>\n      <td>37.500000</td>\n      <td>42.500000</td>\n      <td>45.000000</td>\n      <td>2.856000e+03</td>\n    </tr>\n    <tr>\n      <th>50%</th>\n      <td>13.000000</td>\n      <td>10.000000</td>\n      <td>11.000000</td>\n      <td>12.000000</td>\n      <td>13.000000</td>\n      <td>17.000000</td>\n      <td>18.000000</td>\n      <td>26.000000</td>\n      <td>34.000000</td>\n      <td>44.000000</td>\n      <td>...</td>\n      <td>210.000000</td>\n      <td>218.000000</td>\n      <td>198.000000</td>\n      <td>205.000000</td>\n      <td>214.000000</td>\n      <td>211.000000</td>\n      <td>179.000000</td>\n      <td>233.000000</td>\n      <td>213.000000</td>\n      <td>1.505400e+04</td>\n    </tr>\n    <tr>\n      <th>75%</th>\n      <td>251.500000</td>\n      <td>295.500000</td>\n      <td>275.000000</td>\n      <td>173.000000</td>\n      <td>181.000000</td>\n      <td>197.000000</td>\n      <td>254.000000</td>\n      <td>434.000000</td>\n      <td>409.000000</td>\n      <td>508.500000</td>\n      <td>...</td>\n      <td>832.000000</td>\n      <td>842.000000</td>\n      <td>899.000000</td>\n      <td>934.500000</td>\n      <td>888.000000</td>\n      <td>932.000000</td>\n      <td>772.000000</td>\n      <td>783.000000</td>\n      <td>796.000000</td>\n      <td>6.671850e+04</td>\n    </tr>\n    <tr>\n      <th>max</th>\n      <td>22045.000000</td>\n      <td>24796.000000</td>\n      <td>20620.000000</td>\n      <td>10015.000000</td>\n      <td>10170.000000</td>\n      <td>9564.000000</td>\n      <td>9470.000000</td>\n      <td>21337.000000</td>\n      <td>27359.000000</td>\n      <td>23795.000000</td>\n      <td>...</td>\n      <td>42584.000000</td>\n      <td>33848.000000</td>\n      <td>28742.000000</td>\n      <td>30037.000000</td>\n      <td>29622.000000</td>\n      <td>38617.000000</td>\n      <td>36765.000000</td>\n      <td>34315.000000</td>\n      <td>34129.000000</td>\n      <td>2.075712e+06</td>\n    </tr>\n  </tbody>\n</table>\n<p>8 rows × 35 columns</p>\n</div>"
          },
          "metadata": {}
        }
      ]
    },
    {
      "cell_type": "markdown",
      "source": [
        "***\n",
        "\n",
        "## *pandas* Intermediate: Indexing and Selection (slicing)<a id=\"6\"></a>\n"
      ],
      "metadata": {
        "button": false,
        "new_sheet": false,
        "run_control": {
          "read_only": false
        },
        "id": "t8KVadrD_RYX"
      }
    },
    {
      "cell_type": "markdown",
      "source": [
        "### Select Row\n",
        "\n",
        "There are main 2 ways to select rows:\n",
        "\n",
        "```python\n",
        "    df.loc[label]    # filters by the labels of the index/column\n",
        "    df.iloc[index]   # filters by the positions of the index/column\n",
        "```\n"
      ],
      "metadata": {
        "button": false,
        "new_sheet": false,
        "run_control": {
          "read_only": false
        },
        "id": "XTpyvB9P_RYa"
      }
    },
    {
      "cell_type": "markdown",
      "source": [
        "Before we proceed, notice that the default index of the dataset is a numeric range from 0 to 194. This makes it very difficult to do a query by a specific country. For example to search for data on Japan, we need to know the corresponding index value.\n",
        "\n",
        "This can be fixed very easily by setting the 'Country' column as the index using `set_index()` method.\n"
      ],
      "metadata": {
        "button": false,
        "new_sheet": false,
        "run_control": {
          "read_only": false
        },
        "id": "3K09DtmE_RYa"
      }
    },
    {
      "cell_type": "code",
      "source": [
        "df_can.set_index('Country', inplace=True)\n",
        "# tip: The opposite of set is reset. So to reset the index, we can use df_can.reset_index()"
      ],
      "metadata": {
        "button": false,
        "new_sheet": false,
        "run_control": {
          "read_only": false
        },
        "scrolled": true,
        "trusted": true,
        "id": "RTmdVEih_RYb"
      },
      "execution_count": null,
      "outputs": []
    },
    {
      "cell_type": "code",
      "source": [
        "df_can.head(3)"
      ],
      "metadata": {
        "button": false,
        "new_sheet": false,
        "run_control": {
          "read_only": false
        },
        "trusted": true,
        "id": "H_8MxJC0_RYb",
        "outputId": "e463d699-a4f1-42a0-c009-0301ebdbd704"
      },
      "execution_count": null,
      "outputs": [
        {
          "execution_count": 43,
          "output_type": "execute_result",
          "data": {
            "text/plain": "            Continent           Region             DevName  1980  1981  1982  \\\nCountry                                                                        \nAfghanistan      Asia    Southern Asia  Developing regions    16    39    39   \nAlbania        Europe  Southern Europe   Developed regions     1     0     0   \nAlgeria        Africa  Northern Africa  Developing regions    80    67    71   \n\n             1983  1984  1985  1986  ...  2005  2006  2007  2008  2009  2010  \\\nCountry                              ...                                       \nAfghanistan    47    71   340   496  ...  3436  3009  2652  2111  1746  1758   \nAlbania         0     0     0     1  ...  1223   856   702   560   716   561   \nAlgeria        69    63    44    69  ...  3626  4807  3623  4005  5393  4752   \n\n             2011  2012  2013   Total  \nCountry                                \nAfghanistan  2203  2635  2004  175917  \nAlbania       539   620   603   47097  \nAlgeria      4325  3774  4331  208317  \n\n[3 rows x 38 columns]",
            "text/html": "<div>\n<style scoped>\n    .dataframe tbody tr th:only-of-type {\n        vertical-align: middle;\n    }\n\n    .dataframe tbody tr th {\n        vertical-align: top;\n    }\n\n    .dataframe thead th {\n        text-align: right;\n    }\n</style>\n<table border=\"1\" class=\"dataframe\">\n  <thead>\n    <tr style=\"text-align: right;\">\n      <th></th>\n      <th>Continent</th>\n      <th>Region</th>\n      <th>DevName</th>\n      <th>1980</th>\n      <th>1981</th>\n      <th>1982</th>\n      <th>1983</th>\n      <th>1984</th>\n      <th>1985</th>\n      <th>1986</th>\n      <th>...</th>\n      <th>2005</th>\n      <th>2006</th>\n      <th>2007</th>\n      <th>2008</th>\n      <th>2009</th>\n      <th>2010</th>\n      <th>2011</th>\n      <th>2012</th>\n      <th>2013</th>\n      <th>Total</th>\n    </tr>\n    <tr>\n      <th>Country</th>\n      <th></th>\n      <th></th>\n      <th></th>\n      <th></th>\n      <th></th>\n      <th></th>\n      <th></th>\n      <th></th>\n      <th></th>\n      <th></th>\n      <th></th>\n      <th></th>\n      <th></th>\n      <th></th>\n      <th></th>\n      <th></th>\n      <th></th>\n      <th></th>\n      <th></th>\n      <th></th>\n      <th></th>\n    </tr>\n  </thead>\n  <tbody>\n    <tr>\n      <th>Afghanistan</th>\n      <td>Asia</td>\n      <td>Southern Asia</td>\n      <td>Developing regions</td>\n      <td>16</td>\n      <td>39</td>\n      <td>39</td>\n      <td>47</td>\n      <td>71</td>\n      <td>340</td>\n      <td>496</td>\n      <td>...</td>\n      <td>3436</td>\n      <td>3009</td>\n      <td>2652</td>\n      <td>2111</td>\n      <td>1746</td>\n      <td>1758</td>\n      <td>2203</td>\n      <td>2635</td>\n      <td>2004</td>\n      <td>175917</td>\n    </tr>\n    <tr>\n      <th>Albania</th>\n      <td>Europe</td>\n      <td>Southern Europe</td>\n      <td>Developed regions</td>\n      <td>1</td>\n      <td>0</td>\n      <td>0</td>\n      <td>0</td>\n      <td>0</td>\n      <td>0</td>\n      <td>1</td>\n      <td>...</td>\n      <td>1223</td>\n      <td>856</td>\n      <td>702</td>\n      <td>560</td>\n      <td>716</td>\n      <td>561</td>\n      <td>539</td>\n      <td>620</td>\n      <td>603</td>\n      <td>47097</td>\n    </tr>\n    <tr>\n      <th>Algeria</th>\n      <td>Africa</td>\n      <td>Northern Africa</td>\n      <td>Developing regions</td>\n      <td>80</td>\n      <td>67</td>\n      <td>71</td>\n      <td>69</td>\n      <td>63</td>\n      <td>44</td>\n      <td>69</td>\n      <td>...</td>\n      <td>3626</td>\n      <td>4807</td>\n      <td>3623</td>\n      <td>4005</td>\n      <td>5393</td>\n      <td>4752</td>\n      <td>4325</td>\n      <td>3774</td>\n      <td>4331</td>\n      <td>208317</td>\n    </tr>\n  </tbody>\n</table>\n<p>3 rows × 38 columns</p>\n</div>"
          },
          "metadata": {}
        }
      ]
    },
    {
      "cell_type": "code",
      "source": [
        "# optional: to remove the name of the index\n",
        "df_can.index.name = None"
      ],
      "metadata": {
        "button": false,
        "new_sheet": false,
        "run_control": {
          "read_only": false
        },
        "trusted": true,
        "id": "NN1NOkeS_RYb"
      },
      "execution_count": null,
      "outputs": []
    },
    {
      "cell_type": "markdown",
      "source": [
        "Example: Let's view the number of immigrants from Japan (row 87) for the following scenarios:\n",
        "1\\. The full row data (all columns)\n",
        "2\\. For year 2013\n",
        "3\\. For years 1980 to 1985\n"
      ],
      "metadata": {
        "button": false,
        "new_sheet": false,
        "run_control": {
          "read_only": false
        },
        "id": "gVGbgYd8_RYc"
      }
    },
    {
      "cell_type": "code",
      "source": [
        "# 1. the full row data (all columns)\n",
        "df_can.loc['Japan']"
      ],
      "metadata": {
        "button": false,
        "new_sheet": false,
        "run_control": {
          "read_only": false
        },
        "scrolled": true,
        "trusted": true,
        "id": "xiw_KGGx_RYc",
        "outputId": "f427796d-3df6-4b6e-8c70-09af57e68c73"
      },
      "execution_count": null,
      "outputs": [
        {
          "execution_count": 47,
          "output_type": "execute_result",
          "data": {
            "text/plain": "Continent                 Asia\nRegion            Eastern Asia\nDevName      Developed regions\n1980                       701\n1981                       756\n1982                       598\n1983                       309\n1984                       246\n1985                       198\n1986                       248\n1987                       422\n1988                       324\n1989                       494\n1990                       379\n1991                       506\n1992                       605\n1993                       907\n1994                       956\n1995                       826\n1996                       994\n1997                       924\n1998                       897\n1999                      1083\n2000                      1010\n2001                      1092\n2002                       806\n2003                       817\n2004                       973\n2005                      1067\n2006                      1212\n2007                      1250\n2008                      1284\n2009                      1194\n2010                      1168\n2011                      1265\n2012                      1214\n2013                       982\nTotal                    83121\nName: Japan, dtype: object"
          },
          "metadata": {}
        }
      ]
    },
    {
      "cell_type": "code",
      "source": [
        "# alternate methods\n",
        "df_can.iloc[87]"
      ],
      "metadata": {
        "pycharm": {
          "name": "#%%\n"
        },
        "jupyter": {
          "outputs_hidden": false
        },
        "trusted": true,
        "id": "j4AahYvz_RYc",
        "outputId": "bfe301d6-7696-47ea-c23c-7a042b15cec9"
      },
      "execution_count": null,
      "outputs": [
        {
          "execution_count": 48,
          "output_type": "execute_result",
          "data": {
            "text/plain": "Continent                 Asia\nRegion            Eastern Asia\nDevName      Developed regions\n1980                       701\n1981                       756\n1982                       598\n1983                       309\n1984                       246\n1985                       198\n1986                       248\n1987                       422\n1988                       324\n1989                       494\n1990                       379\n1991                       506\n1992                       605\n1993                       907\n1994                       956\n1995                       826\n1996                       994\n1997                       924\n1998                       897\n1999                      1083\n2000                      1010\n2001                      1092\n2002                       806\n2003                       817\n2004                       973\n2005                      1067\n2006                      1212\n2007                      1250\n2008                      1284\n2009                      1194\n2010                      1168\n2011                      1265\n2012                      1214\n2013                       982\nTotal                    83121\nName: Japan, dtype: object"
          },
          "metadata": {}
        }
      ]
    },
    {
      "cell_type": "code",
      "source": [
        "df_can[df_can.index == 'Japan']"
      ],
      "metadata": {
        "pycharm": {
          "name": "#%%\n"
        },
        "jupyter": {
          "outputs_hidden": false
        },
        "trusted": true,
        "id": "-b9qoGbK_RYf",
        "outputId": "675c7926-21b5-42ad-e09b-28dc91dfadb3"
      },
      "execution_count": null,
      "outputs": [
        {
          "execution_count": 49,
          "output_type": "execute_result",
          "data": {
            "text/plain": "      Continent        Region            DevName  1980  1981  1982  1983  \\\nJapan      Asia  Eastern Asia  Developed regions   701   756   598   309   \n\n       1984  1985  1986  ...  2005  2006  2007  2008  2009  2010  2011  2012  \\\nJapan   246   198   248  ...  1067  1212  1250  1284  1194  1168  1265  1214   \n\n       2013  Total  \nJapan   982  83121  \n\n[1 rows x 38 columns]",
            "text/html": "<div>\n<style scoped>\n    .dataframe tbody tr th:only-of-type {\n        vertical-align: middle;\n    }\n\n    .dataframe tbody tr th {\n        vertical-align: top;\n    }\n\n    .dataframe thead th {\n        text-align: right;\n    }\n</style>\n<table border=\"1\" class=\"dataframe\">\n  <thead>\n    <tr style=\"text-align: right;\">\n      <th></th>\n      <th>Continent</th>\n      <th>Region</th>\n      <th>DevName</th>\n      <th>1980</th>\n      <th>1981</th>\n      <th>1982</th>\n      <th>1983</th>\n      <th>1984</th>\n      <th>1985</th>\n      <th>1986</th>\n      <th>...</th>\n      <th>2005</th>\n      <th>2006</th>\n      <th>2007</th>\n      <th>2008</th>\n      <th>2009</th>\n      <th>2010</th>\n      <th>2011</th>\n      <th>2012</th>\n      <th>2013</th>\n      <th>Total</th>\n    </tr>\n  </thead>\n  <tbody>\n    <tr>\n      <th>Japan</th>\n      <td>Asia</td>\n      <td>Eastern Asia</td>\n      <td>Developed regions</td>\n      <td>701</td>\n      <td>756</td>\n      <td>598</td>\n      <td>309</td>\n      <td>246</td>\n      <td>198</td>\n      <td>248</td>\n      <td>...</td>\n      <td>1067</td>\n      <td>1212</td>\n      <td>1250</td>\n      <td>1284</td>\n      <td>1194</td>\n      <td>1168</td>\n      <td>1265</td>\n      <td>1214</td>\n      <td>982</td>\n      <td>83121</td>\n    </tr>\n  </tbody>\n</table>\n<p>1 rows × 38 columns</p>\n</div>"
          },
          "metadata": {}
        }
      ]
    },
    {
      "cell_type": "code",
      "source": [
        "# 2. for year 2013\n",
        "df_can.loc['Japan',2013]"
      ],
      "metadata": {
        "button": false,
        "new_sheet": false,
        "run_control": {
          "read_only": false
        },
        "scrolled": true,
        "trusted": true,
        "id": "x21dbZrX_RYg",
        "outputId": "013dd611-f84f-48e6-f70e-6b774acc0e0f"
      },
      "execution_count": null,
      "outputs": [
        {
          "execution_count": 50,
          "output_type": "execute_result",
          "data": {
            "text/plain": "982"
          },
          "metadata": {}
        }
      ]
    },
    {
      "cell_type": "code",
      "source": [
        "# alternate method\n",
        "# year 2013 is the last column, with a positional index of 36\n",
        "df_can.iloc[87,36]"
      ],
      "metadata": {
        "pycharm": {
          "name": "#%%\n"
        },
        "jupyter": {
          "outputs_hidden": false
        },
        "trusted": true,
        "id": "R-USqGYU_RYg",
        "outputId": "61e571d9-1a29-43a1-8e39-93a4bc643b01"
      },
      "execution_count": null,
      "outputs": [
        {
          "execution_count": 52,
          "output_type": "execute_result",
          "data": {
            "text/plain": "982"
          },
          "metadata": {}
        }
      ]
    },
    {
      "cell_type": "code",
      "source": [
        "# 3. for years 1980 to 1985\n",
        "df_can.loc['Japan', 1980:1985]\n",
        "#df_can.loc['Japan', [1980, 1991, 1982, 1983, 1984, 2004]] # this way I can access column in any order"
      ],
      "metadata": {
        "button": false,
        "new_sheet": false,
        "run_control": {
          "read_only": false
        },
        "trusted": true,
        "id": "_zaa3hU6_RYg",
        "outputId": "fd6676d9-40b2-4594-8f3a-e3dd6e24f3a5"
      },
      "execution_count": null,
      "outputs": [
        {
          "execution_count": 60,
          "output_type": "execute_result",
          "data": {
            "text/plain": "1980    701\n1981    756\n1982    598\n1983    309\n1984    246\n1985    198\nName: Japan, dtype: object"
          },
          "metadata": {}
        }
      ]
    },
    {
      "cell_type": "code",
      "source": [
        "# Alternative Method\n",
        "df_can.iloc[87, 3:9]\n",
        "#df_can.iloc[87, [3, 4, 5, 6, 7, 8]]"
      ],
      "metadata": {
        "pycharm": {
          "name": "#%%\n"
        },
        "jupyter": {
          "outputs_hidden": false
        },
        "trusted": true,
        "id": "JEudLI20_RYh",
        "outputId": "7d821072-f5d9-4541-a485-f45720743fd0"
      },
      "execution_count": null,
      "outputs": [
        {
          "execution_count": 58,
          "output_type": "execute_result",
          "data": {
            "text/plain": "1980    701\n1981    756\n1982    598\n1983    309\n1984    246\n1985    198\nName: Japan, dtype: object"
          },
          "metadata": {}
        }
      ]
    },
    {
      "cell_type": "markdown",
      "source": [
        "Column names that are integers (such as the years) might introduce some confusion. For example, when we are referencing the year 2013, one might confuse that when the 2013th positional index.\n",
        "\n",
        "To avoid this ambuigity, let's convert the column names into strings: '1980' to '2013'.\n"
      ],
      "metadata": {
        "button": false,
        "new_sheet": false,
        "run_control": {
          "read_only": false
        },
        "id": "hkKZfHLb_RYh"
      }
    },
    {
      "cell_type": "code",
      "source": [
        "cols = list(map(str,df_can.columns))\n",
        "df_can.columns = cols\n",
        "#df_can.columns = list(map(str, df_can.columns))\n",
        "[print(type(i)) for i in df_can.columns.values] #confirming the change"
      ],
      "metadata": {
        "button": false,
        "new_sheet": false,
        "run_control": {
          "read_only": false
        },
        "trusted": true,
        "id": "zDSXNnM2_RYh",
        "outputId": "84c2698b-74bb-4406-95d2-db19edd0d9bf"
      },
      "execution_count": null,
      "outputs": [
        {
          "name": "stdout",
          "text": "<class 'str'>\n<class 'str'>\n<class 'str'>\n<class 'str'>\n<class 'str'>\n<class 'str'>\n<class 'str'>\n<class 'str'>\n<class 'str'>\n<class 'str'>\n<class 'str'>\n<class 'str'>\n<class 'str'>\n<class 'str'>\n<class 'str'>\n<class 'str'>\n<class 'str'>\n<class 'str'>\n<class 'str'>\n<class 'str'>\n<class 'str'>\n<class 'str'>\n<class 'str'>\n<class 'str'>\n<class 'str'>\n<class 'str'>\n<class 'str'>\n<class 'str'>\n<class 'str'>\n<class 'str'>\n<class 'str'>\n<class 'str'>\n<class 'str'>\n<class 'str'>\n<class 'str'>\n<class 'str'>\n<class 'str'>\n<class 'str'>\n",
          "output_type": "stream"
        },
        {
          "execution_count": 70,
          "output_type": "execute_result",
          "data": {
            "text/plain": "[None,\n None,\n None,\n None,\n None,\n None,\n None,\n None,\n None,\n None,\n None,\n None,\n None,\n None,\n None,\n None,\n None,\n None,\n None,\n None,\n None,\n None,\n None,\n None,\n None,\n None,\n None,\n None,\n None,\n None,\n None,\n None,\n None,\n None,\n None,\n None,\n None,\n None]"
          },
          "metadata": {}
        }
      ]
    },
    {
      "cell_type": "markdown",
      "source": [
        "Since we converted the years to string, let's declare a variable that will allow us to easily call upon the full range of years:\n"
      ],
      "metadata": {
        "button": false,
        "new_sheet": false,
        "run_control": {
          "read_only": false
        },
        "id": "hekNg_Fw_RYi"
      }
    },
    {
      "cell_type": "code",
      "source": [
        "# useful for plotting later on\n",
        "years = list(map(str,range(1980, 2014)))\n",
        "years"
      ],
      "metadata": {
        "button": false,
        "new_sheet": false,
        "run_control": {
          "read_only": false
        },
        "trusted": true,
        "id": "jB_mSOKt_RYi",
        "outputId": "f5b54a25-da1d-47bf-e4af-b11e372a28ec"
      },
      "execution_count": null,
      "outputs": [
        {
          "execution_count": 72,
          "output_type": "execute_result",
          "data": {
            "text/plain": "['1980',\n '1981',\n '1982',\n '1983',\n '1984',\n '1985',\n '1986',\n '1987',\n '1988',\n '1989',\n '1990',\n '1991',\n '1992',\n '1993',\n '1994',\n '1995',\n '1996',\n '1997',\n '1998',\n '1999',\n '2000',\n '2001',\n '2002',\n '2003',\n '2004',\n '2005',\n '2006',\n '2007',\n '2008',\n '2009',\n '2010',\n '2011',\n '2012',\n '2013']"
          },
          "metadata": {}
        }
      ]
    },
    {
      "cell_type": "markdown",
      "source": [
        "### Filtering based on a criteria\n",
        "\n",
        "To filter the dataframe based on a condition, we simply pass the condition as a boolean vector.\n",
        "\n",
        "For example, Let's filter the dataframe to show the data on Asian countries (AreaName = Asia).\n"
      ],
      "metadata": {
        "button": false,
        "new_sheet": false,
        "run_control": {
          "read_only": false
        },
        "id": "FyjiUQsU_RYi"
      }
    },
    {
      "cell_type": "code",
      "source": [
        "# 1. create the condition boolean series\n",
        "condition = df_can['Continent']=='Asia'\n",
        "count = 0\n",
        "for cond in condition:\n",
        "    if cond:\n",
        "        count+=1\n",
        "print(f'There are {count} asian countries in this dataframe')"
      ],
      "metadata": {
        "button": false,
        "new_sheet": false,
        "run_control": {
          "read_only": false
        },
        "scrolled": true,
        "trusted": true,
        "id": "PE9ymh-R_RYj",
        "outputId": "5e6dee44-3497-43b2-914e-f40f89eda0f4"
      },
      "execution_count": null,
      "outputs": [
        {
          "name": "stdout",
          "text": "There are 49 asian countries in this dataframe\n",
          "output_type": "stream"
        }
      ]
    },
    {
      "cell_type": "code",
      "source": [
        "# 2. pass this condition into the dataFrame\n",
        "df_can[condition].head()"
      ],
      "metadata": {
        "button": false,
        "new_sheet": false,
        "run_control": {
          "read_only": false
        },
        "trusted": true,
        "id": "hAA1-7R5_RYj",
        "outputId": "8a282661-7d07-465d-ff22-30f4c983bc1f"
      },
      "execution_count": null,
      "outputs": [
        {
          "execution_count": 79,
          "output_type": "execute_result",
          "data": {
            "text/plain": "            Continent         Region             DevName  1980  1981  1982  \\\nAfghanistan      Asia  Southern Asia  Developing regions    16    39    39   \nArmenia          Asia   Western Asia  Developing regions     0     0     0   \nAzerbaijan       Asia   Western Asia  Developing regions     0     0     0   \nBahrain          Asia   Western Asia  Developing regions     0     2     1   \nBangladesh       Asia  Southern Asia  Developing regions    83    84    86   \n\n             1983  1984  1985  1986  ...  2005  2006  2007  2008  2009  2010  \\\nAfghanistan    47    71   340   496  ...  3436  3009  2652  2111  1746  1758   \nArmenia         0     0     0     0  ...   224   218   198   205   267   252   \nAzerbaijan      0     0     0     0  ...   359   236   203   125   165   209   \nBahrain         1     1     3     0  ...    12    12    22     9    35    28   \nBangladesh     81    98    92   486  ...  4171  4014  2897  2939  2104  4721   \n\n             2011  2012  2013   Total  \nAfghanistan  2203  2635  2004  175917  \nArmenia       236   258   207    9930  \nAzerbaijan    138   161    57    7947  \nBahrain        21    39    32    1425  \nBangladesh   2694  2640  3789  196704  \n\n[5 rows x 38 columns]",
            "text/html": "<div>\n<style scoped>\n    .dataframe tbody tr th:only-of-type {\n        vertical-align: middle;\n    }\n\n    .dataframe tbody tr th {\n        vertical-align: top;\n    }\n\n    .dataframe thead th {\n        text-align: right;\n    }\n</style>\n<table border=\"1\" class=\"dataframe\">\n  <thead>\n    <tr style=\"text-align: right;\">\n      <th></th>\n      <th>Continent</th>\n      <th>Region</th>\n      <th>DevName</th>\n      <th>1980</th>\n      <th>1981</th>\n      <th>1982</th>\n      <th>1983</th>\n      <th>1984</th>\n      <th>1985</th>\n      <th>1986</th>\n      <th>...</th>\n      <th>2005</th>\n      <th>2006</th>\n      <th>2007</th>\n      <th>2008</th>\n      <th>2009</th>\n      <th>2010</th>\n      <th>2011</th>\n      <th>2012</th>\n      <th>2013</th>\n      <th>Total</th>\n    </tr>\n  </thead>\n  <tbody>\n    <tr>\n      <th>Afghanistan</th>\n      <td>Asia</td>\n      <td>Southern Asia</td>\n      <td>Developing regions</td>\n      <td>16</td>\n      <td>39</td>\n      <td>39</td>\n      <td>47</td>\n      <td>71</td>\n      <td>340</td>\n      <td>496</td>\n      <td>...</td>\n      <td>3436</td>\n      <td>3009</td>\n      <td>2652</td>\n      <td>2111</td>\n      <td>1746</td>\n      <td>1758</td>\n      <td>2203</td>\n      <td>2635</td>\n      <td>2004</td>\n      <td>175917</td>\n    </tr>\n    <tr>\n      <th>Armenia</th>\n      <td>Asia</td>\n      <td>Western Asia</td>\n      <td>Developing regions</td>\n      <td>0</td>\n      <td>0</td>\n      <td>0</td>\n      <td>0</td>\n      <td>0</td>\n      <td>0</td>\n      <td>0</td>\n      <td>...</td>\n      <td>224</td>\n      <td>218</td>\n      <td>198</td>\n      <td>205</td>\n      <td>267</td>\n      <td>252</td>\n      <td>236</td>\n      <td>258</td>\n      <td>207</td>\n      <td>9930</td>\n    </tr>\n    <tr>\n      <th>Azerbaijan</th>\n      <td>Asia</td>\n      <td>Western Asia</td>\n      <td>Developing regions</td>\n      <td>0</td>\n      <td>0</td>\n      <td>0</td>\n      <td>0</td>\n      <td>0</td>\n      <td>0</td>\n      <td>0</td>\n      <td>...</td>\n      <td>359</td>\n      <td>236</td>\n      <td>203</td>\n      <td>125</td>\n      <td>165</td>\n      <td>209</td>\n      <td>138</td>\n      <td>161</td>\n      <td>57</td>\n      <td>7947</td>\n    </tr>\n    <tr>\n      <th>Bahrain</th>\n      <td>Asia</td>\n      <td>Western Asia</td>\n      <td>Developing regions</td>\n      <td>0</td>\n      <td>2</td>\n      <td>1</td>\n      <td>1</td>\n      <td>1</td>\n      <td>3</td>\n      <td>0</td>\n      <td>...</td>\n      <td>12</td>\n      <td>12</td>\n      <td>22</td>\n      <td>9</td>\n      <td>35</td>\n      <td>28</td>\n      <td>21</td>\n      <td>39</td>\n      <td>32</td>\n      <td>1425</td>\n    </tr>\n    <tr>\n      <th>Bangladesh</th>\n      <td>Asia</td>\n      <td>Southern Asia</td>\n      <td>Developing regions</td>\n      <td>83</td>\n      <td>84</td>\n      <td>86</td>\n      <td>81</td>\n      <td>98</td>\n      <td>92</td>\n      <td>486</td>\n      <td>...</td>\n      <td>4171</td>\n      <td>4014</td>\n      <td>2897</td>\n      <td>2939</td>\n      <td>2104</td>\n      <td>4721</td>\n      <td>2694</td>\n      <td>2640</td>\n      <td>3789</td>\n      <td>196704</td>\n    </tr>\n  </tbody>\n</table>\n<p>5 rows × 38 columns</p>\n</div>"
          },
          "metadata": {}
        }
      ]
    },
    {
      "cell_type": "code",
      "source": [
        "# we can pass multiple criteria in the same line.\n",
        "#df_can[(df_can['Continent']=='Asia') & (df_can['Region']=='Southern Asia')]\n",
        "# trying different method\n",
        "condition2 = df_can['Region']=='Southern Asia'\n",
        "df_can[condition & condition2]"
      ],
      "metadata": {
        "button": false,
        "new_sheet": false,
        "run_control": {
          "read_only": false
        },
        "trusted": true,
        "id": "-1bOA0tK_RYj",
        "outputId": "7f9c1c72-8db2-4937-876a-04a4b029d493"
      },
      "execution_count": null,
      "outputs": [
        {
          "execution_count": 83,
          "output_type": "execute_result",
          "data": {
            "text/plain": "                           Continent         Region             DevName  1980  \\\nAfghanistan                     Asia  Southern Asia  Developing regions    16   \nBangladesh                      Asia  Southern Asia  Developing regions    83   \nBhutan                          Asia  Southern Asia  Developing regions     0   \nIndia                           Asia  Southern Asia  Developing regions  8880   \nIran (Islamic Republic of)      Asia  Southern Asia  Developing regions  1172   \nMaldives                        Asia  Southern Asia  Developing regions     0   \nNepal                           Asia  Southern Asia  Developing regions     1   \nPakistan                        Asia  Southern Asia  Developing regions   978   \nSri Lanka                       Asia  Southern Asia  Developing regions   185   \n\n                            1981  1982  1983  1984  1985  1986  ...   2005  \\\nAfghanistan                   39    39    47    71   340   496  ...   3436   \nBangladesh                    84    86    81    98    92   486  ...   4171   \nBhutan                         0     0     0     1     0     0  ...      5   \nIndia                       8670  8147  7338  5704  4211  7150  ...  36210   \nIran (Islamic Republic of)  1429  1822  1592  1977  1648  1794  ...   5837   \nMaldives                       0     0     1     0     0     0  ...      0   \nNepal                          1     6     1     2     4    13  ...    607   \nPakistan                     972  1201   900   668   514   691  ...  14314   \nSri Lanka                    371   290   197  1086   845  1838  ...   4930   \n\n                             2006   2007   2008   2009   2010   2011   2012  \\\nAfghanistan                  3009   2652   2111   1746   1758   2203   2635   \nBangladesh                   4014   2897   2939   2104   4721   2694   2640   \nBhutan                         10      7     36    865   1464   1879   1075   \nIndia                       33848  28742  28261  29456  34235  27509  30933   \nIran (Islamic Republic of)   7480   6974   6475   6580   7477   7479   7534   \nMaldives                        0      2      1      7      4      3      1   \nNepal                         540    511    581    561   1392   1129   1185   \nPakistan                    13127  10124   8994   7217   6811   7468  11227   \nSri Lanka                    4714   4123   4756   4547   4422   3309   3338   \n\n                             2013    Total  \nAfghanistan                  2004   175917  \nBangladesh                   3789   196704  \nBhutan                        487    17628  \nIndia                       33087  2075712  \nIran (Islamic Republic of)  11291   527769  \nMaldives                        1       90  \nNepal                        1308    30666  \nPakistan                    12603   724800  \nSri Lanka                    2394   445074  \n\n[9 rows x 38 columns]",
            "text/html": "<div>\n<style scoped>\n    .dataframe tbody tr th:only-of-type {\n        vertical-align: middle;\n    }\n\n    .dataframe tbody tr th {\n        vertical-align: top;\n    }\n\n    .dataframe thead th {\n        text-align: right;\n    }\n</style>\n<table border=\"1\" class=\"dataframe\">\n  <thead>\n    <tr style=\"text-align: right;\">\n      <th></th>\n      <th>Continent</th>\n      <th>Region</th>\n      <th>DevName</th>\n      <th>1980</th>\n      <th>1981</th>\n      <th>1982</th>\n      <th>1983</th>\n      <th>1984</th>\n      <th>1985</th>\n      <th>1986</th>\n      <th>...</th>\n      <th>2005</th>\n      <th>2006</th>\n      <th>2007</th>\n      <th>2008</th>\n      <th>2009</th>\n      <th>2010</th>\n      <th>2011</th>\n      <th>2012</th>\n      <th>2013</th>\n      <th>Total</th>\n    </tr>\n  </thead>\n  <tbody>\n    <tr>\n      <th>Afghanistan</th>\n      <td>Asia</td>\n      <td>Southern Asia</td>\n      <td>Developing regions</td>\n      <td>16</td>\n      <td>39</td>\n      <td>39</td>\n      <td>47</td>\n      <td>71</td>\n      <td>340</td>\n      <td>496</td>\n      <td>...</td>\n      <td>3436</td>\n      <td>3009</td>\n      <td>2652</td>\n      <td>2111</td>\n      <td>1746</td>\n      <td>1758</td>\n      <td>2203</td>\n      <td>2635</td>\n      <td>2004</td>\n      <td>175917</td>\n    </tr>\n    <tr>\n      <th>Bangladesh</th>\n      <td>Asia</td>\n      <td>Southern Asia</td>\n      <td>Developing regions</td>\n      <td>83</td>\n      <td>84</td>\n      <td>86</td>\n      <td>81</td>\n      <td>98</td>\n      <td>92</td>\n      <td>486</td>\n      <td>...</td>\n      <td>4171</td>\n      <td>4014</td>\n      <td>2897</td>\n      <td>2939</td>\n      <td>2104</td>\n      <td>4721</td>\n      <td>2694</td>\n      <td>2640</td>\n      <td>3789</td>\n      <td>196704</td>\n    </tr>\n    <tr>\n      <th>Bhutan</th>\n      <td>Asia</td>\n      <td>Southern Asia</td>\n      <td>Developing regions</td>\n      <td>0</td>\n      <td>0</td>\n      <td>0</td>\n      <td>0</td>\n      <td>1</td>\n      <td>0</td>\n      <td>0</td>\n      <td>...</td>\n      <td>5</td>\n      <td>10</td>\n      <td>7</td>\n      <td>36</td>\n      <td>865</td>\n      <td>1464</td>\n      <td>1879</td>\n      <td>1075</td>\n      <td>487</td>\n      <td>17628</td>\n    </tr>\n    <tr>\n      <th>India</th>\n      <td>Asia</td>\n      <td>Southern Asia</td>\n      <td>Developing regions</td>\n      <td>8880</td>\n      <td>8670</td>\n      <td>8147</td>\n      <td>7338</td>\n      <td>5704</td>\n      <td>4211</td>\n      <td>7150</td>\n      <td>...</td>\n      <td>36210</td>\n      <td>33848</td>\n      <td>28742</td>\n      <td>28261</td>\n      <td>29456</td>\n      <td>34235</td>\n      <td>27509</td>\n      <td>30933</td>\n      <td>33087</td>\n      <td>2075712</td>\n    </tr>\n    <tr>\n      <th>Iran (Islamic Republic of)</th>\n      <td>Asia</td>\n      <td>Southern Asia</td>\n      <td>Developing regions</td>\n      <td>1172</td>\n      <td>1429</td>\n      <td>1822</td>\n      <td>1592</td>\n      <td>1977</td>\n      <td>1648</td>\n      <td>1794</td>\n      <td>...</td>\n      <td>5837</td>\n      <td>7480</td>\n      <td>6974</td>\n      <td>6475</td>\n      <td>6580</td>\n      <td>7477</td>\n      <td>7479</td>\n      <td>7534</td>\n      <td>11291</td>\n      <td>527769</td>\n    </tr>\n    <tr>\n      <th>Maldives</th>\n      <td>Asia</td>\n      <td>Southern Asia</td>\n      <td>Developing regions</td>\n      <td>0</td>\n      <td>0</td>\n      <td>0</td>\n      <td>1</td>\n      <td>0</td>\n      <td>0</td>\n      <td>0</td>\n      <td>...</td>\n      <td>0</td>\n      <td>0</td>\n      <td>2</td>\n      <td>1</td>\n      <td>7</td>\n      <td>4</td>\n      <td>3</td>\n      <td>1</td>\n      <td>1</td>\n      <td>90</td>\n    </tr>\n    <tr>\n      <th>Nepal</th>\n      <td>Asia</td>\n      <td>Southern Asia</td>\n      <td>Developing regions</td>\n      <td>1</td>\n      <td>1</td>\n      <td>6</td>\n      <td>1</td>\n      <td>2</td>\n      <td>4</td>\n      <td>13</td>\n      <td>...</td>\n      <td>607</td>\n      <td>540</td>\n      <td>511</td>\n      <td>581</td>\n      <td>561</td>\n      <td>1392</td>\n      <td>1129</td>\n      <td>1185</td>\n      <td>1308</td>\n      <td>30666</td>\n    </tr>\n    <tr>\n      <th>Pakistan</th>\n      <td>Asia</td>\n      <td>Southern Asia</td>\n      <td>Developing regions</td>\n      <td>978</td>\n      <td>972</td>\n      <td>1201</td>\n      <td>900</td>\n      <td>668</td>\n      <td>514</td>\n      <td>691</td>\n      <td>...</td>\n      <td>14314</td>\n      <td>13127</td>\n      <td>10124</td>\n      <td>8994</td>\n      <td>7217</td>\n      <td>6811</td>\n      <td>7468</td>\n      <td>11227</td>\n      <td>12603</td>\n      <td>724800</td>\n    </tr>\n    <tr>\n      <th>Sri Lanka</th>\n      <td>Asia</td>\n      <td>Southern Asia</td>\n      <td>Developing regions</td>\n      <td>185</td>\n      <td>371</td>\n      <td>290</td>\n      <td>197</td>\n      <td>1086</td>\n      <td>845</td>\n      <td>1838</td>\n      <td>...</td>\n      <td>4930</td>\n      <td>4714</td>\n      <td>4123</td>\n      <td>4756</td>\n      <td>4547</td>\n      <td>4422</td>\n      <td>3309</td>\n      <td>3338</td>\n      <td>2394</td>\n      <td>445074</td>\n    </tr>\n  </tbody>\n</table>\n<p>9 rows × 38 columns</p>\n</div>"
          },
          "metadata": {}
        }
      ]
    },
    {
      "cell_type": "markdown",
      "source": [
        "Before we proceed: let's review the changes we have made to our dataframe.\n"
      ],
      "metadata": {
        "button": false,
        "new_sheet": false,
        "run_control": {
          "read_only": false
        },
        "id": "ToeDN9iP_RYk"
      }
    },
    {
      "cell_type": "code",
      "source": [
        "print('data dimensions:', df_can.shape)\n",
        "print(df_can.columns)\n",
        "df_can.head(2)"
      ],
      "metadata": {
        "button": false,
        "new_sheet": false,
        "run_control": {
          "read_only": false
        },
        "scrolled": true,
        "trusted": true,
        "id": "Npm9ny0I_RYk",
        "outputId": "0eb04942-13c1-41dd-cf62-fa6162d8870c"
      },
      "execution_count": null,
      "outputs": [
        {
          "name": "stdout",
          "text": "data dimensions: (195, 38)\nIndex(['Continent', 'Region', 'DevName', '1980', '1981', '1982', '1983',\n       '1984', '1985', '1986', '1987', '1988', '1989', '1990', '1991', '1992',\n       '1993', '1994', '1995', '1996', '1997', '1998', '1999', '2000', '2001',\n       '2002', '2003', '2004', '2005', '2006', '2007', '2008', '2009', '2010',\n       '2011', '2012', '2013', 'Total'],\n      dtype='object')\n",
          "output_type": "stream"
        },
        {
          "execution_count": 84,
          "output_type": "execute_result",
          "data": {
            "text/plain": "            Continent           Region             DevName  1980  1981  1982  \\\nAfghanistan      Asia    Southern Asia  Developing regions    16    39    39   \nAlbania        Europe  Southern Europe   Developed regions     1     0     0   \n\n             1983  1984  1985  1986  ...  2005  2006  2007  2008  2009  2010  \\\nAfghanistan    47    71   340   496  ...  3436  3009  2652  2111  1746  1758   \nAlbania         0     0     0     1  ...  1223   856   702   560   716   561   \n\n             2011  2012  2013   Total  \nAfghanistan  2203  2635  2004  175917  \nAlbania       539   620   603   47097  \n\n[2 rows x 38 columns]",
            "text/html": "<div>\n<style scoped>\n    .dataframe tbody tr th:only-of-type {\n        vertical-align: middle;\n    }\n\n    .dataframe tbody tr th {\n        vertical-align: top;\n    }\n\n    .dataframe thead th {\n        text-align: right;\n    }\n</style>\n<table border=\"1\" class=\"dataframe\">\n  <thead>\n    <tr style=\"text-align: right;\">\n      <th></th>\n      <th>Continent</th>\n      <th>Region</th>\n      <th>DevName</th>\n      <th>1980</th>\n      <th>1981</th>\n      <th>1982</th>\n      <th>1983</th>\n      <th>1984</th>\n      <th>1985</th>\n      <th>1986</th>\n      <th>...</th>\n      <th>2005</th>\n      <th>2006</th>\n      <th>2007</th>\n      <th>2008</th>\n      <th>2009</th>\n      <th>2010</th>\n      <th>2011</th>\n      <th>2012</th>\n      <th>2013</th>\n      <th>Total</th>\n    </tr>\n  </thead>\n  <tbody>\n    <tr>\n      <th>Afghanistan</th>\n      <td>Asia</td>\n      <td>Southern Asia</td>\n      <td>Developing regions</td>\n      <td>16</td>\n      <td>39</td>\n      <td>39</td>\n      <td>47</td>\n      <td>71</td>\n      <td>340</td>\n      <td>496</td>\n      <td>...</td>\n      <td>3436</td>\n      <td>3009</td>\n      <td>2652</td>\n      <td>2111</td>\n      <td>1746</td>\n      <td>1758</td>\n      <td>2203</td>\n      <td>2635</td>\n      <td>2004</td>\n      <td>175917</td>\n    </tr>\n    <tr>\n      <th>Albania</th>\n      <td>Europe</td>\n      <td>Southern Europe</td>\n      <td>Developed regions</td>\n      <td>1</td>\n      <td>0</td>\n      <td>0</td>\n      <td>0</td>\n      <td>0</td>\n      <td>0</td>\n      <td>1</td>\n      <td>...</td>\n      <td>1223</td>\n      <td>856</td>\n      <td>702</td>\n      <td>560</td>\n      <td>716</td>\n      <td>561</td>\n      <td>539</td>\n      <td>620</td>\n      <td>603</td>\n      <td>47097</td>\n    </tr>\n  </tbody>\n</table>\n<p>2 rows × 38 columns</p>\n</div>"
          },
          "metadata": {}
        }
      ]
    },
    {
      "cell_type": "markdown",
      "source": [
        "***\n",
        "\n",
        "# Visualizing Data using Matplotlib<a id=\"8\"></a>\n"
      ],
      "metadata": {
        "button": false,
        "new_sheet": false,
        "run_control": {
          "read_only": false
        },
        "id": "oJXBGYw9_RYl"
      }
    },
    {
      "cell_type": "markdown",
      "source": [
        "Let's start by importing `matplotlib` and `matplotlib.pyplot` as follows:\n"
      ],
      "metadata": {
        "button": false,
        "new_sheet": false,
        "run_control": {
          "read_only": false
        },
        "id": "GQfa_PnB_RYl"
      }
    },
    {
      "cell_type": "code",
      "source": [
        "# we are using the inline backend\n",
        "%matplotlib inline \n",
        "\n",
        "import matplotlib as mpl\n",
        "import matplotlib.pyplot as plt"
      ],
      "metadata": {
        "button": false,
        "new_sheet": false,
        "run_control": {
          "read_only": false
        },
        "trusted": true,
        "id": "_kZo4nPv_RYm"
      },
      "execution_count": null,
      "outputs": []
    },
    {
      "cell_type": "markdown",
      "source": [
        "\\*optional: apply a style to Matplotlib.\n"
      ],
      "metadata": {
        "button": false,
        "new_sheet": false,
        "run_control": {
          "read_only": false
        },
        "id": "jje33EoZ_RYn"
      }
    },
    {
      "cell_type": "code",
      "source": [
        "print(plt.style.available)\n",
        "mpl.style.use(['ggplot']) # optional: for ggplot-like style"
      ],
      "metadata": {
        "button": false,
        "new_sheet": false,
        "run_control": {
          "read_only": false
        },
        "trusted": true,
        "id": "jThJvhZl_RYn",
        "outputId": "d5152f4d-6e54-4a52-ffd0-b685ebd0b1bc"
      },
      "execution_count": null,
      "outputs": [
        {
          "name": "stdout",
          "text": "['Solarize_Light2', '_classic_test_patch', 'bmh', 'classic', 'dark_background', 'fast', 'fivethirtyeight', 'ggplot', 'grayscale', 'seaborn', 'seaborn-bright', 'seaborn-colorblind', 'seaborn-dark', 'seaborn-dark-palette', 'seaborn-darkgrid', 'seaborn-deep', 'seaborn-muted', 'seaborn-notebook', 'seaborn-paper', 'seaborn-pastel', 'seaborn-poster', 'seaborn-talk', 'seaborn-ticks', 'seaborn-white', 'seaborn-whitegrid', 'tableau-colorblind10']\n",
          "output_type": "stream"
        }
      ]
    },
    {
      "cell_type": "markdown",
      "source": [
        "### Plotting in *pandas*\n",
        "\n",
        "Fortunately, pandas has a built-in implementation of Matplotlib that we can use. Plotting in *pandas* is as simple as appending a `.plot()` method to a series or dataframe.\n",
        "\n",
        "Documentation:\n",
        "\n",
        "*   [Plotting with Series](http://pandas.pydata.org/pandas-docs/stable/api.html?utm_medium=Exinfluencer&utm_source=Exinfluencer&utm_content=000026UJ&utm_term=10006555&utm_id=NA-SkillsNetwork-Channel-SkillsNetworkCoursesIBMDeveloperSkillsNetworkDV0101ENSkillsNetwork20297740-2021-01-01#plotting)<br>\n",
        "*   [Plotting with Dataframes](http://pandas.pydata.org/pandas-docs/stable/api.html?utm_medium=Exinfluencer&utm_source=Exinfluencer&utm_content=000026UJ&utm_term=10006555&utm_id=NA-SkillsNetwork-Channel-SkillsNetworkCoursesIBMDeveloperSkillsNetworkDV0101ENSkillsNetwork20297740-2021-01-01#api-dataframe-plotting)\n"
      ],
      "metadata": {
        "button": false,
        "new_sheet": false,
        "run_control": {
          "read_only": false
        },
        "id": "bCAtRxB6_RYo"
      }
    },
    {
      "cell_type": "markdown",
      "source": [
        "# Line Pots (Series/Dataframe) <a id=\"12\"></a>\n"
      ],
      "metadata": {
        "button": false,
        "new_sheet": false,
        "run_control": {
          "read_only": false
        },
        "id": "cnEbj1Ve_RYo"
      }
    },
    {
      "cell_type": "markdown",
      "source": [
        "**What is a line plot and why use it?**\n",
        "\n",
        "A line chart or line plot is a type of plot which displays information as a series of data points called 'markers' connected by straight line segments. It is a basic type of chart common in many fields.\n",
        "Use line plot when you have a continuous data set. These are best suited for trend-based visualizations of data over a period of time.\n"
      ],
      "metadata": {
        "button": false,
        "new_sheet": false,
        "run_control": {
          "read_only": false
        },
        "id": "I7KhOZBx_RYo"
      }
    },
    {
      "cell_type": "markdown",
      "source": [
        "**Let's start with a case study:**\n",
        "\n",
        "In 2010, Haiti suffered a catastrophic magnitude 7.0 earthquake. The quake caused widespread devastation and loss of life and aout three million people were affected by this natural disaster. As part of Canada's humanitarian effort, the Government of Canada stepped up its effort in accepting refugees from Haiti. We can quickly visualize this effort using a `Line` plot:\n",
        "\n",
        "**Question:** Plot a line graph of immigration from Haiti using `df.plot()`.\n"
      ],
      "metadata": {
        "button": false,
        "new_sheet": false,
        "run_control": {
          "read_only": false
        },
        "id": "jc64mnyG_RYp"
      }
    },
    {
      "cell_type": "markdown",
      "source": [
        "First, we will extract the data series for Haiti.\n"
      ],
      "metadata": {
        "button": false,
        "new_sheet": false,
        "run_control": {
          "read_only": false
        },
        "id": "FNS-P3hW_RYp"
      }
    },
    {
      "cell_type": "code",
      "source": [
        "haiti = df_can.loc['Haiti', years] # passing in years 1980 - 2013 to exclude the 'total' column\n",
        "haiti.tail()"
      ],
      "metadata": {
        "button": false,
        "new_sheet": false,
        "run_control": {
          "read_only": false
        },
        "trusted": true,
        "id": "0BbF_jNZ_RYp",
        "outputId": "4fc4ba65-a21b-4642-f066-178f4f5660eb"
      },
      "execution_count": null,
      "outputs": [
        {
          "execution_count": 96,
          "output_type": "execute_result",
          "data": {
            "text/plain": "2009    2080\n2010    4744\n2011    6503\n2012    5868\n2013    4152\nName: Haiti, dtype: object"
          },
          "metadata": {}
        }
      ]
    },
    {
      "cell_type": "markdown",
      "source": [
        "Next, we will plot a line plot by appending `.plot()` to the `haiti` dataframe.\n"
      ],
      "metadata": {
        "button": false,
        "new_sheet": false,
        "run_control": {
          "read_only": false
        },
        "id": "Z8gScC1G_RYq"
      }
    },
    {
      "cell_type": "code",
      "source": [
        "haiti.plot()\n",
        "plt.show()"
      ],
      "metadata": {
        "button": false,
        "new_sheet": false,
        "run_control": {
          "read_only": false
        },
        "trusted": true,
        "id": "HUvMT398_RYq",
        "outputId": "5a356b46-a215-4758-8927-93358d04ff49"
      },
      "execution_count": null,
      "outputs": [
        {
          "output_type": "display_data",
          "data": {
            "text/plain": "<pyolite.display.Image at 0x7d0df68>",
            "image/png": "[encoded data removed]"
          },
          "metadata": {}
        },
        {
          "output_type": "display_data",
          "data": {
            "text/plain": "<Figure size 432x288 with 0 Axes>"
          },
          "metadata": {}
        }
      ]
    },
    {
      "cell_type": "markdown",
      "source": [
        "*pandas* automatically populated the x-axis with the index values (years), and the y-axis with the column values (population). However, notice how the years were not displayed because they are of type *string*. Therefore, let's change the type of the index values to *integer* for plotting.\n",
        "\n",
        "Also, let's label the x and y axis using `plt.title()`, `plt.ylabel()`, and `plt.xlabel()` as follows:\n"
      ],
      "metadata": {
        "button": false,
        "new_sheet": false,
        "run_control": {
          "read_only": false
        },
        "id": "K3UE5274_RYq"
      }
    },
    {
      "cell_type": "code",
      "source": [
        "haiti.index = haiti.index.map(int) # let's change the index values of Haiti to type integer for plotting\n",
        "haiti.plot(kind='line')\n",
        "\n",
        "plt.title('Immigration from Haiti')\n",
        "plt.ylabel('Number of immigrants')\n",
        "plt.xlabel('Years')\n",
        "\n",
        "plt.show() # need this line to show the updates made to the figure"
      ],
      "metadata": {
        "button": false,
        "new_sheet": false,
        "run_control": {
          "read_only": false
        },
        "scrolled": true,
        "trusted": true,
        "id": "VXT_LnX6_RYq",
        "outputId": "685ae10f-4de3-42f3-ef77-54bfcb35a984"
      },
      "execution_count": null,
      "outputs": [
        {
          "output_type": "display_data",
          "data": {
            "text/plain": "<pyolite.display.Image at 0x7dc0518>",
            "image/png": "[encoded data removed]"
          },
          "metadata": {}
        },
        {
          "output_type": "display_data",
          "data": {
            "text/plain": "<Figure size 432x288 with 0 Axes>"
          },
          "metadata": {}
        }
      ]
    },
    {
      "cell_type": "markdown",
      "source": [
        "We can clearly notice how number of immigrants from Haiti spiked up from 2010 as Canada stepped up its efforts to accept refugees from Haiti. Let's annotate this spike in the plot by using the `plt.text()` method.\n"
      ],
      "metadata": {
        "button": false,
        "new_sheet": false,
        "run_control": {
          "read_only": false
        },
        "id": "FMpe-1cm_RYr"
      }
    },
    {
      "cell_type": "code",
      "source": [
        "haiti.plot(kind='line')\n",
        "\n",
        "plt.title('Immigration from Haiti')\n",
        "plt.ylabel('Number of Immigrants')\n",
        "plt.xlabel('Years')\n",
        "\n",
        "# annotate the 2010 Earthquake. \n",
        "# syntax: plt.text(x, y, label)\n",
        "plt.text(2000, 6000, '2010 Earthquake') # see note below\n",
        "\n",
        "plt.show() "
      ],
      "metadata": {
        "button": false,
        "new_sheet": false,
        "run_control": {
          "read_only": false
        },
        "trusted": true,
        "id": "8SgVckag_RYr",
        "outputId": "e2ae766a-b920-4e2b-e571-75a9d7caa8e7"
      },
      "execution_count": null,
      "outputs": [
        {
          "output_type": "display_data",
          "data": {
            "text/plain": "<pyolite.display.Image at 0x6c63920>",
            "image/png": "[encoded data removed]"
          },
          "metadata": {}
        },
        {
          "output_type": "display_data",
          "data": {
            "text/plain": "<Figure size 432x288 with 0 Axes>"
          },
          "metadata": {}
        }
      ]
    },
    {
      "cell_type": "markdown",
      "source": [
        "Let's compare the number of immigrants from India and China from 1980 to 2013.\n"
      ],
      "metadata": {
        "button": false,
        "new_sheet": false,
        "run_control": {
          "read_only": false
        },
        "id": "vvTy-EN2_RYs"
      }
    },
    {
      "cell_type": "markdown",
      "source": [
        "Step 1: Get the data set for China and India, and display the dataframe.\n"
      ],
      "metadata": {
        "button": false,
        "new_sheet": false,
        "run_control": {
          "read_only": false
        },
        "id": "qGlcnmxz_RYs"
      }
    },
    {
      "cell_type": "code",
      "source": [
        "### type your answer here\n",
        "df_CI = df_can.loc[['China','India'], years]\n",
        "df_CI"
      ],
      "metadata": {
        "button": false,
        "new_sheet": false,
        "run_control": {
          "read_only": false
        },
        "scrolled": true,
        "trusted": true,
        "id": "0KagR5p9_RYt",
        "outputId": "435413ef-e6f0-4354-b81c-8bf2810b4b31"
      },
      "execution_count": null,
      "outputs": [
        {
          "execution_count": 112,
          "output_type": "execute_result",
          "data": {
            "text/plain": "       1980  1981  1982  1983  1984  1985  1986   1987   1988   1989  ...  \\\nChina  5123  6682  3308  1863  1527  1816  1960   2643   2758   4323  ...   \nIndia  8880  8670  8147  7338  5704  4211  7150  10189  11522  10343  ...   \n\n        2004   2005   2006   2007   2008   2009   2010   2011   2012   2013  \nChina  36619  42584  33518  27642  30037  29622  30391  28502  33024  34129  \nIndia  28235  36210  33848  28742  28261  29456  34235  27509  30933  33087  \n\n[2 rows x 34 columns]",
            "text/html": "<div>\n<style scoped>\n    .dataframe tbody tr th:only-of-type {\n        vertical-align: middle;\n    }\n\n    .dataframe tbody tr th {\n        vertical-align: top;\n    }\n\n    .dataframe thead th {\n        text-align: right;\n    }\n</style>\n<table border=\"1\" class=\"dataframe\">\n  <thead>\n    <tr style=\"text-align: right;\">\n      <th></th>\n      <th>1980</th>\n      <th>1981</th>\n      <th>1982</th>\n      <th>1983</th>\n      <th>1984</th>\n      <th>1985</th>\n      <th>1986</th>\n      <th>1987</th>\n      <th>1988</th>\n      <th>1989</th>\n      <th>...</th>\n      <th>2004</th>\n      <th>2005</th>\n      <th>2006</th>\n      <th>2007</th>\n      <th>2008</th>\n      <th>2009</th>\n      <th>2010</th>\n      <th>2011</th>\n      <th>2012</th>\n      <th>2013</th>\n    </tr>\n  </thead>\n  <tbody>\n    <tr>\n      <th>China</th>\n      <td>5123</td>\n      <td>6682</td>\n      <td>3308</td>\n      <td>1863</td>\n      <td>1527</td>\n      <td>1816</td>\n      <td>1960</td>\n      <td>2643</td>\n      <td>2758</td>\n      <td>4323</td>\n      <td>...</td>\n      <td>36619</td>\n      <td>42584</td>\n      <td>33518</td>\n      <td>27642</td>\n      <td>30037</td>\n      <td>29622</td>\n      <td>30391</td>\n      <td>28502</td>\n      <td>33024</td>\n      <td>34129</td>\n    </tr>\n    <tr>\n      <th>India</th>\n      <td>8880</td>\n      <td>8670</td>\n      <td>8147</td>\n      <td>7338</td>\n      <td>5704</td>\n      <td>4211</td>\n      <td>7150</td>\n      <td>10189</td>\n      <td>11522</td>\n      <td>10343</td>\n      <td>...</td>\n      <td>28235</td>\n      <td>36210</td>\n      <td>33848</td>\n      <td>28742</td>\n      <td>28261</td>\n      <td>29456</td>\n      <td>34235</td>\n      <td>27509</td>\n      <td>30933</td>\n      <td>33087</td>\n    </tr>\n  </tbody>\n</table>\n<p>2 rows × 34 columns</p>\n</div>"
          },
          "metadata": {}
        }
      ]
    },
    {
      "cell_type": "markdown",
      "source": [
        "Step 2: Transpose the dataframe and plot the graph. We will explicitly specify line plot by passing in `kind` parameter to `plot()`.\n"
      ],
      "metadata": {
        "button": false,
        "new_sheet": false,
        "run_control": {
          "read_only": false
        },
        "id": "iyywHAyS_RYu"
      }
    },
    {
      "cell_type": "code",
      "source": [
        "df_CI = df_CI.T"
      ],
      "metadata": {
        "id": "DWRuI3S0BOGr"
      },
      "execution_count": null,
      "outputs": []
    },
    {
      "cell_type": "markdown",
      "source": [
        "*pandas* will auomatically graph the two countries on the same graph. Go ahead and plot the new transposed dataframe. Make sure to add a title to the plot and label the axes.\n"
      ],
      "metadata": {
        "button": false,
        "new_sheet": false,
        "run_control": {
          "read_only": false
        },
        "id": "_3FcIqWp_RYx"
      }
    },
    {
      "cell_type": "code",
      "source": [
        "### type your answer here\n",
        "df_CI.plot(kind='line')\n",
        "\n",
        "plt.title('China and India Immigration')\n",
        "plt.ylabel('Number of Immigrants')\n",
        "plt.xlabel('Years')\n",
        "plt.show()"
      ],
      "metadata": {
        "button": false,
        "new_sheet": false,
        "run_control": {
          "read_only": false
        },
        "trusted": true,
        "id": "rWy-xX5q_RYx",
        "outputId": "1e7fa38a-7d6a-437f-9e37-8be5cc6650dc"
      },
      "execution_count": null,
      "outputs": [
        {
          "output_type": "display_data",
          "data": {
            "text/plain": "<pyolite.display.Image at 0x81615c0>",
            "image/png": "[encoded data removed]"
          },
          "metadata": {}
        },
        {
          "output_type": "display_data",
          "data": {
            "text/plain": "<Figure size 432x288 with 0 Axes>"
          },
          "metadata": {}
        }
      ]
    },
    {
      "cell_type": "markdown",
      "source": [
        "<br>From the above plot, we can observe that the China and India have very similar immigration trends through the years.\n"
      ],
      "metadata": {
        "button": false,
        "new_sheet": false,
        "run_control": {
          "read_only": false
        },
        "id": "TgjjYfCJ_RYy"
      }
    },
    {
      "cell_type": "markdown",
      "source": [
        "Line plot is a handy tool to display several dependent variables against one independent variable. However, it is recommended that no more than 5-10 lines on a single graph; any more than that and it becomes difficult to interpret.\n"
      ],
      "metadata": {
        "button": false,
        "new_sheet": false,
        "run_control": {
          "read_only": false
        },
        "id": "jMyoxxd9_RYy"
      }
    },
    {
      "cell_type": "markdown",
      "source": [
        "Compare the trend of top 5 countries that contributed the most to immigration to Canada.\n"
      ],
      "metadata": {
        "button": false,
        "new_sheet": false,
        "run_control": {
          "read_only": false
        },
        "id": "S19Jtarm_RYz"
      }
    },
    {
      "cell_type": "code",
      "source": [
        "### first discovering the top5 countries\n",
        "countries = df_can['Total'].sort_values(ascending=False).head().index\n",
        "# converting it to a list\n",
        "countries = list(map(str,countries))"
      ],
      "metadata": {
        "button": false,
        "new_sheet": false,
        "run_control": {
          "read_only": false
        },
        "trusted": true,
        "id": "8k8ijp8b_RYz"
      },
      "execution_count": null,
      "outputs": []
    },
    {
      "cell_type": "code",
      "source": [
        "# creating a new df, using loc\n",
        "df_top5 = df_can.loc[countries, years]\n",
        "df_top5"
      ],
      "metadata": {
        "trusted": true,
        "id": "KrKbBOY6_RYz",
        "outputId": "e2f2bbc0-306a-473b-c401-311cc7777603"
      },
      "execution_count": null,
      "outputs": [
        {
          "execution_count": 129,
          "output_type": "execute_result",
          "data": {
            "text/plain": "                                                     1980   1981   1982  \\\nIndia                                                8880   8670   8147   \nChina                                                5123   6682   3308   \nUnited Kingdom of Great Britain and Northern Ir...  22045  24796  20620   \nPhilippines                                          6051   5921   5249   \nPakistan                                              978    972   1201   \n\n                                                     1983   1984  1985  1986  \\\nIndia                                                7338   5704  4211  7150   \nChina                                                1863   1527  1816  1960   \nUnited Kingdom of Great Britain and Northern Ir...  10015  10170  9564  9470   \nPhilippines                                          4562   3801  3150  4166   \nPakistan                                              900    668   514   691   \n\n                                                     1987   1988   1989  ...  \\\nIndia                                               10189  11522  10343  ...   \nChina                                                2643   2758   4323  ...   \nUnited Kingdom of Great Britain and Northern Ir...  21337  27359  23795  ...   \nPhilippines                                          7360   8639  11865  ...   \nPakistan                                             1072   1334   2261  ...   \n\n                                                     2004   2005   2006  \\\nIndia                                               28235  36210  33848   \nChina                                               36619  42584  33518   \nUnited Kingdom of Great Britain and Northern Ir...   7533   7258   7140   \nPhilippines                                         14004  18139  18400   \nPakistan                                            13399  14314  13127   \n\n                                                     2007   2008   2009  \\\nIndia                                               28742  28261  29456   \nChina                                               27642  30037  29622   \nUnited Kingdom of Great Britain and Northern Ir...   8216   8979   8876   \nPhilippines                                         19837  24887  28573   \nPakistan                                            10124   8994   7217   \n\n                                                     2010   2011   2012   2013  \nIndia                                               34235  27509  30933  33087  \nChina                                               30391  28502  33024  34129  \nUnited Kingdom of Great Britain and Northern Ir...   8724   6204   6195   5827  \nPhilippines                                         38617  36765  34315  29544  \nPakistan                                             6811   7468  11227  12603  \n\n[5 rows x 34 columns]",
            "text/html": "<div>\n<style scoped>\n    .dataframe tbody tr th:only-of-type {\n        vertical-align: middle;\n    }\n\n    .dataframe tbody tr th {\n        vertical-align: top;\n    }\n\n    .dataframe thead th {\n        text-align: right;\n    }\n</style>\n<table border=\"1\" class=\"dataframe\">\n  <thead>\n    <tr style=\"text-align: right;\">\n      <th></th>\n      <th>1980</th>\n      <th>1981</th>\n      <th>1982</th>\n      <th>1983</th>\n      <th>1984</th>\n      <th>1985</th>\n      <th>1986</th>\n      <th>1987</th>\n      <th>1988</th>\n      <th>1989</th>\n      <th>...</th>\n      <th>2004</th>\n      <th>2005</th>\n      <th>2006</th>\n      <th>2007</th>\n      <th>2008</th>\n      <th>2009</th>\n      <th>2010</th>\n      <th>2011</th>\n      <th>2012</th>\n      <th>2013</th>\n    </tr>\n  </thead>\n  <tbody>\n    <tr>\n      <th>India</th>\n      <td>8880</td>\n      <td>8670</td>\n      <td>8147</td>\n      <td>7338</td>\n      <td>5704</td>\n      <td>4211</td>\n      <td>7150</td>\n      <td>10189</td>\n      <td>11522</td>\n      <td>10343</td>\n      <td>...</td>\n      <td>28235</td>\n      <td>36210</td>\n      <td>33848</td>\n      <td>28742</td>\n      <td>28261</td>\n      <td>29456</td>\n      <td>34235</td>\n      <td>27509</td>\n      <td>30933</td>\n      <td>33087</td>\n    </tr>\n    <tr>\n      <th>China</th>\n      <td>5123</td>\n      <td>6682</td>\n      <td>3308</td>\n      <td>1863</td>\n      <td>1527</td>\n      <td>1816</td>\n      <td>1960</td>\n      <td>2643</td>\n      <td>2758</td>\n      <td>4323</td>\n      <td>...</td>\n      <td>36619</td>\n      <td>42584</td>\n      <td>33518</td>\n      <td>27642</td>\n      <td>30037</td>\n      <td>29622</td>\n      <td>30391</td>\n      <td>28502</td>\n      <td>33024</td>\n      <td>34129</td>\n    </tr>\n    <tr>\n      <th>United Kingdom of Great Britain and Northern Ireland</th>\n      <td>22045</td>\n      <td>24796</td>\n      <td>20620</td>\n      <td>10015</td>\n      <td>10170</td>\n      <td>9564</td>\n      <td>9470</td>\n      <td>21337</td>\n      <td>27359</td>\n      <td>23795</td>\n      <td>...</td>\n      <td>7533</td>\n      <td>7258</td>\n      <td>7140</td>\n      <td>8216</td>\n      <td>8979</td>\n      <td>8876</td>\n      <td>8724</td>\n      <td>6204</td>\n      <td>6195</td>\n      <td>5827</td>\n    </tr>\n    <tr>\n      <th>Philippines</th>\n      <td>6051</td>\n      <td>5921</td>\n      <td>5249</td>\n      <td>4562</td>\n      <td>3801</td>\n      <td>3150</td>\n      <td>4166</td>\n      <td>7360</td>\n      <td>8639</td>\n      <td>11865</td>\n      <td>...</td>\n      <td>14004</td>\n      <td>18139</td>\n      <td>18400</td>\n      <td>19837</td>\n      <td>24887</td>\n      <td>28573</td>\n      <td>38617</td>\n      <td>36765</td>\n      <td>34315</td>\n      <td>29544</td>\n    </tr>\n    <tr>\n      <th>Pakistan</th>\n      <td>978</td>\n      <td>972</td>\n      <td>1201</td>\n      <td>900</td>\n      <td>668</td>\n      <td>514</td>\n      <td>691</td>\n      <td>1072</td>\n      <td>1334</td>\n      <td>2261</td>\n      <td>...</td>\n      <td>13399</td>\n      <td>14314</td>\n      <td>13127</td>\n      <td>10124</td>\n      <td>8994</td>\n      <td>7217</td>\n      <td>6811</td>\n      <td>7468</td>\n      <td>11227</td>\n      <td>12603</td>\n    </tr>\n  </tbody>\n</table>\n<p>5 rows × 34 columns</p>\n</div>"
          },
          "metadata": {}
        }
      ]
    },
    {
      "cell_type": "code",
      "source": [
        "# inverting the dataframe: rows->columns\n",
        "df_top5 = df_top5.T\n",
        "df_top5.head()"
      ],
      "metadata": {
        "trusted": true,
        "id": "Wcs8kzJg_RY0",
        "outputId": "119297c5-3754-4bc0-b02e-bd03f1e653bb"
      },
      "execution_count": null,
      "outputs": [
        {
          "execution_count": 130,
          "output_type": "execute_result",
          "data": {
            "text/plain": "      India  China  United Kingdom of Great Britain and Northern Ireland  \\\n1980   8880   5123                                              22045      \n1981   8670   6682                                              24796      \n1982   8147   3308                                              20620      \n1983   7338   1863                                              10015      \n1984   5704   1527                                              10170      \n\n      Philippines  Pakistan  \n1980         6051       978  \n1981         5921       972  \n1982         5249      1201  \n1983         4562       900  \n1984         3801       668  ",
            "text/html": "<div>\n<style scoped>\n    .dataframe tbody tr th:only-of-type {\n        vertical-align: middle;\n    }\n\n    .dataframe tbody tr th {\n        vertical-align: top;\n    }\n\n    .dataframe thead th {\n        text-align: right;\n    }\n</style>\n<table border=\"1\" class=\"dataframe\">\n  <thead>\n    <tr style=\"text-align: right;\">\n      <th></th>\n      <th>India</th>\n      <th>China</th>\n      <th>United Kingdom of Great Britain and Northern Ireland</th>\n      <th>Philippines</th>\n      <th>Pakistan</th>\n    </tr>\n  </thead>\n  <tbody>\n    <tr>\n      <th>1980</th>\n      <td>8880</td>\n      <td>5123</td>\n      <td>22045</td>\n      <td>6051</td>\n      <td>978</td>\n    </tr>\n    <tr>\n      <th>1981</th>\n      <td>8670</td>\n      <td>6682</td>\n      <td>24796</td>\n      <td>5921</td>\n      <td>972</td>\n    </tr>\n    <tr>\n      <th>1982</th>\n      <td>8147</td>\n      <td>3308</td>\n      <td>20620</td>\n      <td>5249</td>\n      <td>1201</td>\n    </tr>\n    <tr>\n      <th>1983</th>\n      <td>7338</td>\n      <td>1863</td>\n      <td>10015</td>\n      <td>4562</td>\n      <td>900</td>\n    </tr>\n    <tr>\n      <th>1984</th>\n      <td>5704</td>\n      <td>1527</td>\n      <td>10170</td>\n      <td>3801</td>\n      <td>668</td>\n    </tr>\n  </tbody>\n</table>\n</div>"
          },
          "metadata": {}
        }
      ]
    },
    {
      "cell_type": "code",
      "source": [
        "# plotting the line chart\n",
        "df_top5.plot(kind='line', figsize=(14, 8))\n",
        "\n",
        "plt.title('TOP 5 Countries in Immigration Numbers')\n",
        "plt.xlabel('Years')\n",
        "plt.ylabel('Number of Immigrants')\n",
        "plt.show()"
      ],
      "metadata": {
        "trusted": true,
        "id": "pknzKHN1_RY0",
        "outputId": "1f3ff9af-b784-4585-9758-013a509f16f9"
      },
      "execution_count": null,
      "outputs": [
        {
          "output_type": "display_data",
          "data": {
            "text/plain": "<pyolite.display.Image at 0x80dea20>",
            "image/png": "[encoded data removed]"
          },
          "metadata": {}
        },
        {
          "output_type": "display_data",
          "data": {
            "text/plain": "<Figure size 1008x576 with 0 Axes>"
          },
          "metadata": {}
        }
      ]
    },
    {
      "cell_type": "markdown",
      "source": [
        "### Other Plots\n",
        "\n",
        "Congratulations! you have learned how to wrangle data with python and create a line plot with Matplotlib. There are many other plotting styles available other than the default Line plot, all of which can be accessed by passing `kind` keyword to `plot()`. The full list of available plots are as follows:\n",
        "\n",
        "*   `bar` for vertical bar plots\n",
        "*   `barh` for horizontal bar plots\n",
        "*   `hist` for histogram\n",
        "*   `box` for boxplot\n",
        "*   `kde` or `density` for density plots\n",
        "*   `area` for area plots\n",
        "*   `pie` for pie plots\n",
        "*   `scatter` for scatter plots\n",
        "*   `hexbin` for hexbin plot\n"
      ],
      "metadata": {
        "button": false,
        "new_sheet": false,
        "run_control": {
          "read_only": false
        },
        "id": "j2YfSA3M_RY1"
      }
    },
    {
      "cell_type": "markdown",
      "source": [
        "\n",
        "## <h3 align=\"center\"> © IBM Corporation 2020. All rights reserved. <h3/>\n"
      ],
      "metadata": {
        "button": false,
        "new_sheet": false,
        "run_control": {
          "read_only": false
        },
        "id": "R9IWjlYe_RY1"
      }
    }
  ]
}